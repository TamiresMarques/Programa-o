{
  "nbformat": 4,
  "nbformat_minor": 0,
  "metadata": {
    "colab": {
      "provenance": [],
      "toc_visible": true,
      "authorship_tag": "ABX9TyPScX8cj9R+BOKQeCrOzNcd",
      "include_colab_link": true
    },
    "kernelspec": {
      "name": "python3",
      "display_name": "Python 3"
    },
    "language_info": {
      "name": "python"
    }
  },
  "cells": [
    {
      "cell_type": "markdown",
      "metadata": {
        "id": "view-in-github",
        "colab_type": "text"
      },
      "source": [
        "<a href=\"https://colab.research.google.com/github/TamiresMarques/Programacao/blob/main/exercicios_python1.ipynb\" target=\"_parent\"><img src=\"https://colab.research.google.com/assets/colab-badge.svg\" alt=\"Open In Colab\"/></a>"
      ]
    },
    {
      "cell_type": "markdown",
      "source": [
        "1. Escreva um algoritmo que imprima na tela: Olá Mundo!"
      ],
      "metadata": {
        "id": "9vAfc-7iZVge"
      }
    },
    {
      "cell_type": "code",
      "execution_count": null,
      "metadata": {
        "colab": {
          "base_uri": "https://localhost:8080/"
        },
        "id": "vCGFHPbPZN0L",
        "outputId": "a9405974-3a96-4588-c3cd-6074f022b21e"
      },
      "outputs": [
        {
          "output_type": "stream",
          "name": "stdout",
          "text": [
            "Olá Mundo!\n"
          ]
        }
      ],
      "source": [
        "print(\"Olá Mundo!\")"
      ]
    },
    {
      "cell_type": "markdown",
      "source": [
        "2. Escreva um programa que imprima seu nome na tela."
      ],
      "metadata": {
        "id": "Xbpp6-_dZhih"
      }
    },
    {
      "cell_type": "code",
      "source": [
        "print(\"Tamires\")"
      ],
      "metadata": {
        "id": "t8KmQqUYZiXK"
      },
      "execution_count": null,
      "outputs": []
    },
    {
      "cell_type": "markdown",
      "source": [
        "3. O que o código a seguir imprime? print(\"*\\n**\\n***\\n****\\n*****\")"
      ],
      "metadata": {
        "id": "5QLjoOdtZi3V"
      }
    },
    {
      "cell_type": "code",
      "source": [
        "# Esse código imprime \"*\" em uma linha, \"**\" na linha debaixo, \"***\" na próxima linha, \"****\" na linha sequinte e \"*****\" na última linha.\n"
      ],
      "metadata": {
        "id": "iDoyuNNVZjLY"
      },
      "execution_count": null,
      "outputs": []
    },
    {
      "cell_type": "markdown",
      "source": [
        "4. O que aparece na janela do console, quando cada uma das instruções abaixo são executadas, para: x = 2 e y = 3? Execute cada uma das linhas abaixos e, se necessário, faça os devidos ajustes no código.\n",
        "a) print(“x = ” + x);\n",
        "b) print(“O valor de x + x é ” + (x + x));\n",
        "c) print(“x = ”);\n",
        "d) print((x + y) + “ = “ + (y + x));"
      ],
      "metadata": {
        "id": "uZ6JnljlZjb-"
      }
    },
    {
      "cell_type": "code",
      "source": [
        "# Letra a\n",
        "x = 2\n",
        "print(f\"x = {x}\")"
      ],
      "metadata": {
        "colab": {
          "base_uri": "https://localhost:8080/"
        },
        "id": "6toY-1nfZjvq",
        "outputId": "aaccef5e-2c4b-42ea-c1fb-64f47ef4c757"
      },
      "execution_count": null,
      "outputs": [
        {
          "output_type": "stream",
          "name": "stdout",
          "text": [
            "x = 2\n"
          ]
        }
      ]
    },
    {
      "cell_type": "code",
      "source": [
        "# Letra b \n",
        "x = 2\n",
        "print(f\"O valor de x+x é {x + x}\")"
      ],
      "metadata": {
        "colab": {
          "base_uri": "https://localhost:8080/"
        },
        "id": "HheNThbio2qd",
        "outputId": "61c95248-1343-4ece-8d95-ebd21e303f9b"
      },
      "execution_count": null,
      "outputs": [
        {
          "output_type": "stream",
          "name": "stdout",
          "text": [
            "O valor de x+x é 4\n"
          ]
        }
      ]
    },
    {
      "cell_type": "code",
      "source": [
        "# Letra c\n",
        "x = 2\n",
        "print(f\"x =\")"
      ],
      "metadata": {
        "colab": {
          "base_uri": "https://localhost:8080/"
        },
        "id": "v-V2KtQPo1Fg",
        "outputId": "1f5622ab-1227-4f28-e294-c19d887d54d1"
      },
      "execution_count": null,
      "outputs": [
        {
          "output_type": "stream",
          "name": "stdout",
          "text": [
            "x =\n"
          ]
        }
      ]
    },
    {
      "cell_type": "code",
      "source": [
        "# Letra d \n",
        "x, y = 2, 3\n",
        "print(f\"{x+y} = {y+x}\")"
      ],
      "metadata": {
        "id": "obyDva3motvA",
        "colab": {
          "base_uri": "https://localhost:8080/"
        },
        "outputId": "d94e28c5-5da9-4cb6-a0d1-ee5bf21eb80b"
      },
      "execution_count": null,
      "outputs": [
        {
          "output_type": "stream",
          "name": "stdout",
          "text": [
            "5 = 5\n"
          ]
        }
      ]
    },
    {
      "cell_type": "markdown",
      "source": [
        "5. Escreva um algoritmo que imprima na tela a seguinte mensagem:\n",
        "A programação é aprendida escrevendo programas - Brian Kernighan"
      ],
      "metadata": {
        "id": "nSO_PR6UZkAF"
      }
    },
    {
      "cell_type": "code",
      "source": [
        "print(\"A programação é aprendida escrevendo programas - Brian Kernighan\")"
      ],
      "metadata": {
        "id": "hoGYynj5ZkTd",
        "colab": {
          "base_uri": "https://localhost:8080/"
        },
        "outputId": "83dfc3d5-8daa-4d87-b47a-60b18572b361"
      },
      "execution_count": null,
      "outputs": [
        {
          "output_type": "stream",
          "name": "stdout",
          "text": [
            "A programação é aprendida escrevendo programas - Brian Kernighan\n"
          ]
        }
      ]
    },
    {
      "cell_type": "markdown",
      "source": [
        "6. Crie um algoritmo que imprima o produto entre os números 25 e 27"
      ],
      "metadata": {
        "id": "Fmx2Uv3DZkpj"
      }
    },
    {
      "cell_type": "code",
      "source": [
        "print(25*27)"
      ],
      "metadata": {
        "id": "eKR3bS1lZlyK",
        "colab": {
          "base_uri": "https://localhost:8080/"
        },
        "outputId": "a443225e-85a4-43a4-b525-061bd771f8c5"
      },
      "execution_count": null,
      "outputs": [
        {
          "output_type": "stream",
          "name": "stdout",
          "text": [
            "675\n"
          ]
        }
      ]
    },
    {
      "cell_type": "markdown",
      "source": [
        "7. Crie um algoritmo que imprima a média aritmética entre os números 4, 12, 15."
      ],
      "metadata": {
        "id": "Wx5POgaIZmGv"
      }
    },
    {
      "cell_type": "code",
      "source": [
        "print((4+12+15)/3)"
      ],
      "metadata": {
        "id": "vdDsTreMZmyZ",
        "colab": {
          "base_uri": "https://localhost:8080/"
        },
        "outputId": "e140946d-be09-45ee-8482-3f237c1c6eef"
      },
      "execution_count": null,
      "outputs": [
        {
          "output_type": "stream",
          "name": "stdout",
          "text": [
            "10.333333333333334\n"
          ]
        }
      ]
    },
    {
      "cell_type": "markdown",
      "source": [
        "8. Faça um programa que leia um número inteiro e mostre-o na tela da seguinte forma:\n",
        "O número inteiro digitado foi 4."
      ],
      "metadata": {
        "id": "H8Rsz5MINJ6-"
      }
    },
    {
      "cell_type": "code",
      "source": [
        "numero = int(input(\"Digite um número: \"))\n",
        "print(f\"O número inteiro digitado foi {numero}\")"
      ],
      "metadata": {
        "colab": {
          "base_uri": "https://localhost:8080/"
        },
        "id": "oEqliTs9NKN1",
        "outputId": "e0dfd807-d60d-458a-d469-c8e0b3382a8a"
      },
      "execution_count": null,
      "outputs": [
        {
          "output_type": "stream",
          "name": "stdout",
          "text": [
            "Digite um número: 4\n",
            "O número inteiro digitado foi 4\n"
          ]
        }
      ]
    },
    {
      "cell_type": "markdown",
      "source": [
        "9. Faça um programa que leia e imprima dois números inteiros na tela."
      ],
      "metadata": {
        "id": "nlLL5LUQNKhd"
      }
    },
    {
      "cell_type": "code",
      "source": [
        "numero1 = int(input(\"Digite um número inteiro: \"))\n",
        "numero2 = int(input(\"Digite outro número inteiro: \"))\n",
        "print(f\"Os números inteiros digitados foram {numero1} e {numero2}\")"
      ],
      "metadata": {
        "colab": {
          "base_uri": "https://localhost:8080/"
        },
        "id": "aJG3m5KDNKs9",
        "outputId": "fbc5603b-4b7a-477c-c057-8ad7130fe36f"
      },
      "execution_count": null,
      "outputs": [
        {
          "output_type": "stream",
          "name": "stdout",
          "text": [
            "Digite um número: 5\n",
            "Digite outro número: 7\n",
            "Os números inteiros digitados foram 5 e 7\n"
          ]
        }
      ]
    },
    {
      "cell_type": "markdown",
      "source": [
        "10. Faça um programa que leia um número inteiro e imprima seu número sucessor e antecessor"
      ],
      "metadata": {
        "id": "4nW-zpF0NK1t"
      }
    },
    {
      "cell_type": "code",
      "source": [
        "numero = int(input(\"Digite um número inteiro: \"))\n",
        "print(f\"Antecessor: {numero-1}. \\nSucessor: {numero+1}.\")\n"
      ],
      "metadata": {
        "colab": {
          "base_uri": "https://localhost:8080/"
        },
        "id": "8wFj2c9yNK99",
        "outputId": "7b836037-fff4-458a-fb30-65f4873ad707"
      },
      "execution_count": null,
      "outputs": [
        {
          "output_type": "stream",
          "name": "stdout",
          "text": [
            "Digite um número inteiro: 7\n",
            "Antecessor: 6, Sucessor: 8\n"
          ]
        }
      ]
    },
    {
      "cell_type": "markdown",
      "source": [
        "11. Faça um programa que leia o nome, endereço e telefone de um usuário e imprima na tela."
      ],
      "metadata": {
        "id": "O9br4E9BNLFs"
      }
    },
    {
      "cell_type": "code",
      "source": [
        "nome = input(\"Digite seu nome: \")\n",
        "endereco = input(\"Digite seu endereço: \")\n",
        "telefone = input(\"Digite seu telefone: \")\n",
        "print(f\"Nome: {nome}. \\nEndereço: {endereco}. \\nTelefone: {telefone}.\")"
      ],
      "metadata": {
        "colab": {
          "base_uri": "https://localhost:8080/"
        },
        "id": "NQHoNoUZNLN-",
        "outputId": "1fd68509-cff3-4d9d-d361-86a8133913f1"
      },
      "execution_count": null,
      "outputs": [
        {
          "output_type": "stream",
          "name": "stdout",
          "text": [
            "Digite seu nome: ab\n",
            "Digite seu endereço: td\n",
            "Digite seu telefone12\n",
            "Nome: ab \n",
            "Endereço: td \n",
            "Telefone: 12\n"
          ]
        }
      ]
    },
    {
      "cell_type": "markdown",
      "source": [
        "12. Faça um programa que leia e multiplique dois números inteiros."
      ],
      "metadata": {
        "id": "rCiulOSyNLVc"
      }
    },
    {
      "cell_type": "code",
      "source": [
        "numero1 = int(input(\"Digite um número inteiro: \"))\n",
        "numero2 = int(input(\"Digite outro número inteiro: \"))\n",
        "print(f\"{numero1} * {numero2} = {numero1*numero2}\")"
      ],
      "metadata": {
        "colab": {
          "base_uri": "https://localhost:8080/"
        },
        "id": "_g-u_9gMNLcs",
        "outputId": "f90447cf-eaad-47bd-92c9-5b17a9d30e60"
      },
      "execution_count": null,
      "outputs": [
        {
          "output_type": "stream",
          "name": "stdout",
          "text": [
            "Digite um número inteiro: 5\n",
            "Digite outro número inteiro: 2\n",
            "5 * 2 = 10\n"
          ]
        }
      ]
    },
    {
      "cell_type": "markdown",
      "source": [
        "13. Faça um programa que leia um número real e imprima a terça parte deste número."
      ],
      "metadata": {
        "id": "t_uggSgMNL2k"
      }
    },
    {
      "cell_type": "code",
      "source": [
        "numero = float(input(\"Digite um número real: \"))\n",
        "print(f\"A terça parte de {numero} é {numero/3}\")"
      ],
      "metadata": {
        "colab": {
          "base_uri": "https://localhost:8080/"
        },
        "id": "e73EHzM9NL8f",
        "outputId": "825c3057-5ca7-4b50-e9ab-9cbfc0f178dd"
      },
      "execution_count": null,
      "outputs": [
        {
          "output_type": "stream",
          "name": "stdout",
          "text": [
            "Digite um número real: 5\n",
            "1.6666666666666667\n"
          ]
        }
      ]
    },
    {
      "cell_type": "markdown",
      "source": [
        "14. Faça um programa que leia dois números inteiros e imprima o dividendo, divisor, quociente e resto da divisão"
      ],
      "metadata": {
        "id": "Y21jXDtsRbVb"
      }
    },
    {
      "cell_type": "code",
      "source": [
        "num1 = int(input(\"Digite um número inteiro: \"))\n",
        "num2 = int(input(\"Digite outro número inteiro: \"))\n",
        "print(f\"Dividendo: {num1}.\\nDivisor: {num2}. \\nQuociente: {num1/num2}. \\nResto da divisão: {num1%num2}.\")"
      ],
      "metadata": {
        "colab": {
          "base_uri": "https://localhost:8080/"
        },
        "id": "ls5Kxa9jRbey",
        "outputId": "2a7de76b-a9df-4c2d-d52c-f54bee060bdc"
      },
      "execution_count": null,
      "outputs": [
        {
          "output_type": "stream",
          "name": "stdout",
          "text": [
            "Digite um número inteiro: 9\n",
            "Digite outro número inteiro: 3\n",
            "Dividendo: 9.\n",
            "Divisor: 3 \n",
            "Quociente: 3.0 \n",
            "Resto da divisão: 0\n"
          ]
        }
      ]
    },
    {
      "cell_type": "markdown",
      "source": [
        "15. Escreva um programa que solicite do usuário dois números, e imprima o resultado da soma, subtração, multiplicação e divisão."
      ],
      "metadata": {
        "id": "5AezJwKRRbpD"
      }
    },
    {
      "cell_type": "code",
      "source": [
        "num1 = float(input(\"Digite um número: \"))\n",
        "num2 = float(input(\"Digite outro número: \"))\n",
        "print(f\"Soma: {num1 + num2}. \\nSubtração: {num1-num2}. \\nMultiplicação: {num1*num2}.\\nDivisão: {num1/num2}\")"
      ],
      "metadata": {
        "colab": {
          "base_uri": "https://localhost:8080/"
        },
        "id": "tCe0hL0xRcEK",
        "outputId": "3545e0da-f020-4789-d427-04fec121f368"
      },
      "execution_count": null,
      "outputs": [
        {
          "output_type": "stream",
          "name": "stdout",
          "text": [
            "Digite um número: 15\n",
            "Digite outro número: 5\n",
            "Soma: 20.0. \n",
            "Subtração: 10.0. \n",
            "Multiplicação: 75.0.\n",
            "Divisão: 3.0\n"
          ]
        }
      ]
    },
    {
      "cell_type": "markdown",
      "source": [
        "16. Faça um programa que leia quatro números inteiros, calcule e mostre a soma desses números."
      ],
      "metadata": {
        "id": "wwwru0UFRcPa"
      }
    },
    {
      "cell_type": "code",
      "source": [
        "num1 = int(input(\"Digite um número inteiro: \"))\n",
        "num2 = int(input(\"Digite outro número inteiro: \"))\n",
        "num3 = int(input(\"Digite outro número inteiro: \"))\n",
        "num4 = int(input(\"Digite outro número inteiro: \"))\n",
        "print(num1+num2+num3+num4)"
      ],
      "metadata": {
        "colab": {
          "base_uri": "https://localhost:8080/"
        },
        "id": "eqZMiZUpRcaK",
        "outputId": "cf526863-ec60-47ca-8723-f9da10d636ca"
      },
      "execution_count": null,
      "outputs": [
        {
          "output_type": "stream",
          "name": "stdout",
          "text": [
            "Digite um número inteiro: 5\n",
            "Digite outro número inteiro: 9\n",
            "Digite outro número inteiro: 7\n",
            "Digite outro número inteiro: 2\n",
            "23\n"
          ]
        }
      ]
    },
    {
      "cell_type": "markdown",
      "source": [
        "17. Faça um programa que receba três notas, calcule e mostre a média aritmética."
      ],
      "metadata": {
        "id": "QdxGC2yZRclj"
      }
    },
    {
      "cell_type": "code",
      "source": [
        "nota1 = float(input(\"Nota 1: \"))\n",
        "nota2 = float(input(\"Nota 2: \"))\n",
        "nota3 = float(input(\"Nota 3: \"))\n",
        "print(f\"Média aritmética: {(nota1+nota2+nota3)/3}\")"
      ],
      "metadata": {
        "id": "KdLGkNxwRctL"
      },
      "execution_count": null,
      "outputs": []
    },
    {
      "cell_type": "markdown",
      "source": [
        "18. Faça um programa que receba três notas e seus respectivos pesos, calcule e mostre a média ponderada."
      ],
      "metadata": {
        "id": "1CQQjlEAVg8j"
      }
    },
    {
      "cell_type": "code",
      "source": [
        "nota1 = float(input(\"Nota 1: \"))\n",
        "peso1 = int(input(\"Peso da nota 1: \"))\n",
        "nota2 = float(input(\"Nota 2: \"))\n",
        "peso2 = int(input(\"Peso da nota 2: \"))\n",
        "nota3 = float(input(\"Nota 3: \"))\n",
        "peso3 = int(input(\"Peso da nota 3: \"))\n",
        "mediap = (nota1*peso1 + nota2*peso2 + nota3*peso3)/(peso1+peso2+peso3) \n",
        "print(f\"Média ponderada: {mediap}\")"
      ],
      "metadata": {
        "id": "Z2zoL-9iVhGK"
      },
      "execution_count": null,
      "outputs": []
    },
    {
      "cell_type": "markdown",
      "source": [
        "19. Faça um programa que receba o salário de um funcionário, calcule e mostre o novo salário, sabendo-se que este sofreu um aumento de 25%."
      ],
      "metadata": {
        "id": "2HnJ3IGrVhQb"
      }
    },
    {
      "cell_type": "code",
      "source": [
        "salario = float(input(\"Informe seu salário: \"))\n",
        "aumento = salario + 0.25*salario\n",
        "print(f\"Novo salário: {aumento}\")"
      ],
      "metadata": {
        "colab": {
          "base_uri": "https://localhost:8080/"
        },
        "id": "ZJ-azEUHVhYr",
        "outputId": "649249d0-9934-4536-d835-bfbeda37e80f"
      },
      "execution_count": null,
      "outputs": [
        {
          "output_type": "stream",
          "name": "stdout",
          "text": [
            "Informe seu salário: 1000\n",
            "Novo salário: 1250.0\n"
          ]
        }
      ]
    },
    {
      "cell_type": "markdown",
      "source": [
        "20. Faça um programa que receba o salário de um funcionário e o percentual de aumento, calcule e mostre o valor do aumento e o novo salário."
      ],
      "metadata": {
        "id": "H1QOuvmgVhxy"
      }
    },
    {
      "cell_type": "code",
      "source": [
        "salario = float(input(\"Informe seu salário: \"))\n",
        "percentual = float(input(\"Informe seu percentual de aumento: \"))\n",
        "aumento = salario * percentual\n",
        "novo_salario = salario + aumento\n",
        "print(f\"Valor do aumento: {aumento} \\nNovo salário: {novo_salario}\")"
      ],
      "metadata": {
        "colab": {
          "base_uri": "https://localhost:8080/"
        },
        "id": "rFdwORDnVh5j",
        "outputId": "09b28c71-548b-4194-9434-e53def559104"
      },
      "execution_count": null,
      "outputs": [
        {
          "output_type": "stream",
          "name": "stdout",
          "text": [
            "Informe seu salário: 1000\n",
            "Informe seu percentual de aumento: 0.25\n",
            "Valor do aumento: 250.0. \n",
            "Novo salário: 1250.0\n"
          ]
        }
      ]
    },
    {
      "cell_type": "markdown",
      "source": [
        "21. Faça um programa que receba o salário base de um funcionário, calcule e mostre o salário a receber, sabendo-se que o funcionário tem gratificação de 5% sobre o salário base e paga imposto de 7% também sobre o salário base."
      ],
      "metadata": {
        "id": "JdsxrutHViCt"
      }
    },
    {
      "cell_type": "code",
      "source": [
        "salario_base = float(input(\"Informe seu salário base: \"))\n",
        "gratificacao = (salario_base*0.05) + salario_base\n",
        "imposto = salario_base*0.07\n",
        "novo_salario = gratificacao - imposto\n",
        "print(f\"Salário  a receber: {novo_salario}\")"
      ],
      "metadata": {
        "colab": {
          "base_uri": "https://localhost:8080/"
        },
        "id": "Hyu8k76RViJ8",
        "outputId": "c615470b-c55d-4670-b760-cd8054652c6a"
      },
      "execution_count": null,
      "outputs": [
        {
          "output_type": "stream",
          "name": "stdout",
          "text": [
            "Informe seu salário base: 1000\n",
            "Salário  a receber: 980.0\n"
          ]
        }
      ]
    },
    {
      "cell_type": "markdown",
      "source": [
        "22. Faça um programa que receba o salário base de um funcionário, calcule e mostre seu salário a receber, sabendo-se que o funcionário tem gratificação de R$ 50,00 e paga imposto de 10% sobre o salário base."
      ],
      "metadata": {
        "id": "4OoAXLVSXVHH"
      }
    },
    {
      "cell_type": "code",
      "source": [
        "salario_base = float(input(\"Informe seu salário: \"))\n",
        "salario_receber = (salario_base - salario_base*0.10) + 50\n",
        "print(salario_receber) "
      ],
      "metadata": {
        "colab": {
          "base_uri": "https://localhost:8080/"
        },
        "id": "508IObY6XVP_",
        "outputId": "ef7e0961-2fe8-44aa-ec03-71b929ccb97a"
      },
      "execution_count": null,
      "outputs": [
        {
          "output_type": "stream",
          "name": "stdout",
          "text": [
            "Informe seu salário: 1000\n",
            "950.0\n"
          ]
        }
      ]
    },
    {
      "cell_type": "markdown",
      "source": [
        "23. Faça um programa que receba o valor de um depósito e o valor da taxa de juros, calcule e mostre o valor do rendimento e o valor total depois do rendimento."
      ],
      "metadata": {
        "id": "K4q7VL84XVaH"
      }
    },
    {
      "cell_type": "code",
      "source": [
        "deposito = float(input(\"Informe o valor do depósito: \"))\n",
        "juros = float(input(\"Informe a taxa de juros: \"))\n",
        "rendimento = deposito * juros\n",
        "valor_total = deposito + rendimento\n",
        "print(f\"Valor do rendimento: {rendimento} \\nValor total: {valor_total}\")"
      ],
      "metadata": {
        "colab": {
          "base_uri": "https://localhost:8080/"
        },
        "id": "EAFdTAtSXVi_",
        "outputId": "9861bd48-76d8-4dee-d21f-8b201add8573"
      },
      "execution_count": null,
      "outputs": [
        {
          "output_type": "stream",
          "name": "stdout",
          "text": [
            "Informe o valor do depósito: 1200\n",
            "Informe a taxa de juros: 0.04\n",
            "Valor do rendimento: 48.0 \n",
            "Valor total: 1248.0\n"
          ]
        }
      ]
    },
    {
      "cell_type": "markdown",
      "source": [
        "24. Faça um programa que calcule e mostre a área de um triângulo. Sabe-se que:\n",
        "Área = (base * altura) / 2."
      ],
      "metadata": {
        "id": "Qb-uUIfLXVsY"
      }
    },
    {
      "cell_type": "code",
      "source": [
        "base = float(input(\"Digite o valor da base: \"))\n",
        "altura = float(input(\"Digite o valor da altura: \"))\n",
        "area = (base*altura)/2\n",
        "print(area)"
      ],
      "metadata": {
        "id": "SqxH_LX7XV1Y"
      },
      "execution_count": null,
      "outputs": []
    },
    {
      "cell_type": "markdown",
      "source": [
        "25. Escreva um programa que receba como entrada o raio de um círculo e imprima o diâmetro, a circunferência e a área. Para isso, utilize as fórmulas: diâmetro = 2r; circunferência = 2πr, área = πr²."
      ],
      "metadata": {
        "id": "PYf0dpc-Xi-Q"
      }
    },
    {
      "cell_type": "code",
      "source": [
        "r = float(input(\"Digite o raio do circulo: \"))\n",
        "diametro = 2 * r\n",
        "circunferencia = 2 * 3.14 * r\n",
        "area = 3.14 * r**2\n",
        "print(f\"Diâmetro: {diametro} \\nCircunferência: {circunferencia}, \\nÁrea: {area}\")"
      ],
      "metadata": {
        "colab": {
          "base_uri": "https://localhost:8080/"
        },
        "id": "MG_ve7vQXjGo",
        "outputId": "cb515885-173d-42ef-e35b-1e3752cdc5d5"
      },
      "execution_count": null,
      "outputs": [
        {
          "output_type": "stream",
          "name": "stdout",
          "text": [
            "Digite o raio do circulo: 3\n",
            "Diâmetro: 6.0 \n",
            "Circunferência: 18.84, \n",
            "Área: 28.26\n"
          ]
        }
      ]
    },
    {
      "cell_type": "markdown",
      "source": [
        "26. Faça um programa que receba um número positivo e maior que zero, calcule e mostre:\n",
        "o número digitado ao quadrado;\n",
        "o número digitado ao cubo;\n",
        "a raiz quadrada do número digitado."
      ],
      "metadata": {
        "id": "avrF0gAJXjQw"
      }
    },
    {
      "cell_type": "code",
      "source": [
        "num = int(input(\"Digite um número positivo maior que zero: \"))\n",
        "if num > 0:\n",
        "  potencia2 = num**2\n",
        "  potencia3 = num**3\n",
        "  raiz = num**1/2\n",
        "  print(f\"Número ao quadrado: {potencia2} \\nNúmero ao cubo: {potencia3} \\nRaiz quadrada: {raiz}\")\n",
        "else: \n",
        "  print(\"Erro!\")\n",
        "  num = int(input(\"Digite um número positivo maior que zero: \"))"
      ],
      "metadata": {
        "id": "ul7v0e24XjYP"
      },
      "execution_count": null,
      "outputs": []
    },
    {
      "cell_type": "markdown",
      "source": [
        "27. Faça um programa que receba dois números maiores que zero, calcule e mostre um elevado ao outro."
      ],
      "metadata": {
        "id": "u52fL-CWXjhw"
      }
    },
    {
      "cell_type": "code",
      "source": [
        "num1 = int(input(\"Digite um número positivo maior que zero: \"))\n",
        "num2 = int(input(\"Digite outro número positivo maior que zero: \"))\n",
        "if num1 > 0 and num2 > 0:\n",
        "  potencia = num1**num2 \n",
        "  print(f\"{num1} elevado a {num2} é igual a {potencia}\")\n",
        "else: \n",
        "  print(\"Erro!\")\n",
        "  num1 = int(input(\"Digite um número positivo maior que zero: \"))\n",
        "  num2 = int(input(\"Digite outro número positivo maior que zero: \"))"
      ],
      "metadata": {
        "colab": {
          "base_uri": "https://localhost:8080/"
        },
        "id": "3G9hcSLuXjp3",
        "outputId": "e14009ec-ff2e-4b7c-967b-625a234cf934"
      },
      "execution_count": null,
      "outputs": [
        {
          "output_type": "stream",
          "name": "stdout",
          "text": [
            "Digite um número positivo maior que zero: 2\n",
            "Digite um número positivo maior que zero: 3\n",
            "2 elevado a 3 é igual a 8\n"
          ]
        }
      ]
    },
    {
      "cell_type": "markdown",
      "source": [
        "28. Sabe-se que: pé = 12 polegadas; 1 jarda = 3 pés e 1 milha = 1,760 jarda. Faça um programa que receba uma medida em pés, faça as conversões a seguir e mostre os resultados.\n",
        "polegadas;\n",
        "jardas;\n",
        "milhas"
      ],
      "metadata": {
        "id": "7uGlaj84XxVX"
      }
    },
    {
      "cell_type": "code",
      "source": [
        "pe = float(input(\"Digite a medida em pés: \"))\n",
        "polegada = pe * 12\n",
        "jarda = pe / 3\n",
        "milha = jarda/1760\n",
        "print(f\"Polegadas: {polegada} \\nJardas: {jarda} \\nMilha: {milha}\")"
      ],
      "metadata": {
        "colab": {
          "base_uri": "https://localhost:8080/"
        },
        "id": "AOSjdTT8X1tG",
        "outputId": "9e38179b-0771-4762-f478-0a1bd81f2ee6"
      },
      "execution_count": null,
      "outputs": [
        {
          "output_type": "stream",
          "name": "stdout",
          "text": [
            "Digite a medida em pés: 20\n",
            "Polegadas: 240.0 \n",
            "Jardas: 6.666666666666667 \n",
            "Milha: 0.003787878787878788\n"
          ]
        }
      ]
    },
    {
      "cell_type": "markdown",
      "source": [
        "29. Escreva um programa que receba como entrada um número de 5 dígitos, separe o número em dígitos individuais e os imprima separados por 3 espaços cada um. Por exemplo, se o usuário digitar 42339, o programa deverá imprimir: 4 2 3 3. Dica: utilize as operações de divisão e módulo para extrair cada dígito do número."
      ],
      "metadata": {
        "id": "Z1j860PjX14-"
      }
    },
    {
      "cell_type": "code",
      "source": [
        "num = int(input(\"Digite um número inteiro de 5 dígitos: \"))\n",
        "if num >= 10000 and num <= 99999:\n",
        "  unidade = num % 10\n",
        "  num = (num - unidade)/10\n",
        "  dezena = num % 10\n",
        "  num = (num - dezena)/10\n",
        "  centena = num % 10\n",
        "  num = (num - centena)/10\n",
        "  unidade_milhar = num % 10\n",
        "  num = (num - unidade_milhar)/10\n",
        "  dezena_milhar = num\n",
        "  print(f\"{int(dezena_milhar)} {int(unidade_milhar)} {int(centena)} {int(dezena)}\")\n",
        "else:\n",
        " print(\"Erro!\")\n",
        " num = int(input(\"Digite um número inteiro de 5 dígitos: \"))"
      ],
      "metadata": {
        "colab": {
          "base_uri": "https://localhost:8080/"
        },
        "id": "4yTW-_sVX2Am",
        "outputId": "a2a569a3-0c9c-46e8-f978-1057316b1f6c"
      },
      "execution_count": null,
      "outputs": [
        {
          "output_type": "stream",
          "name": "stdout",
          "text": [
            "Digite um número inteiro de 5 dígitos: 42339\n",
            "4 2 3 3\n"
          ]
        }
      ]
    }
  ]
}