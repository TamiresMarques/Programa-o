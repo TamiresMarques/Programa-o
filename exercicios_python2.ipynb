{
  "nbformat": 4,
  "nbformat_minor": 0,
  "metadata": {
    "colab": {
      "provenance": [],
      "collapsed_sections": [],
      "authorship_tag": "ABX9TyOyTfHLB/Vsj513dtCf6Hty",
      "include_colab_link": true
    },
    "kernelspec": {
      "name": "python3",
      "display_name": "Python 3"
    },
    "language_info": {
      "name": "python"
    }
  },
  "cells": [
    {
      "cell_type": "markdown",
      "metadata": {
        "id": "view-in-github",
        "colab_type": "text"
      },
      "source": [
        "<a href=\"https://colab.research.google.com/github/TamiresMarques/Programacao/blob/main/exercicios_python2.ipynb\" target=\"_parent\"><img src=\"https://colab.research.google.com/assets/colab-badge.svg\" alt=\"Open In Colab\"/></a>"
      ]
    },
    {
      "cell_type": "markdown",
      "source": [
        "1. A nota final de um estudante é calculada a partir de três notas atribuídas, respectivamente, a um trabalho de laboratório, a uma avaliação semestral e a um exame final. A média das três notas mencionadas obedece aos pesos a seguir:\n",
        "\n",
        "![image.png](data:image/png;base64,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)\n",
        "\n",
        "\n",
        "Faça um programa que receba as três notas, calcule e mostre a média ponderada e o conceito que segue a tabela:\n",
        "\n",
        "![image.png](data:image/png;base64,iVBORw0KGgoAAAANSUhEUgAAANsAAACsCAYAAADypNk5AAAdW0lEQVR4nO2dX0gbWd/HP+/Le/Xcvkq7qOwmsBSM0OhSglIQijRoqRdrtxe7F8tSikpcYyt1b1ov6t48FrdqI1LKUp6L7kW3PmBEJaUsFEpDKEYLibxSGLok4p94/dzOezEzyUwySZMYx9b+PhBoZs6c8zu/Ob9zvufEnvNfqqqqCIJw5Pz3cRsgCJ8LEmyC4BASbILgEBJsguAQEmyC4BASbILgEBJsguAQEmyC4BDHEGxx5txu3G437qEwGfOt9TntutvN4FIm77kM4SE3bvcg4V2bbHfDDLrduB/EtVIeaPnMrZdvWWZpMFt+cTsOi1GPOeI1ztnZMqrFsO0offwBjHb2wFnvHO/ItrJK1BQ48VdTRZNmlsYZYZqYMk/v6XIL8NP0ReVmjS4oKIrCsxsQCfoqClihFHHm3D5GVkZ5pmg+VpRndB+TNf6vmrR/6B31UQf98QVbjx8/EVbfGBWME70P/h6/TeIMqca7KKFe6svMvu1nBaWiwLTJ4/woAIm0wz3vCSX+4ApT+Jl+HaAte7WN3svlvtUa0RpAURTm9XIzb1aJOFDs8QXbmW66eyASiWpScj3KFNBypqUgafyBjyt9Pl125KSRRfZ1jFgcpslIXXIaEjP7KU9eGSNtS2M9hfLHJGeN/IcGTeWYyrCU72NkJa8gk3zOSd+cbB7MymeTBC9mg10ZVda/tmidKT3dtBfrAPP8kJN5+b4onCIY0wbr9CTvnRnX9XIGlzJklgbxBbWWEwn6smnypxQ1GfVUx1lTQy6X6ppdU/fDA6rLNaAu7qjq2qxLdblC6lo8pLpcLnUgvK+lNq6rqqruLKoD+rOWf6uqnlfuu/aclreFvPzNZPMwfUJx1Sa/fXUxYPpu2BJYVPdN+WhlGGnz6mB81+3RyjGnNf6ds8GCpf4fKKPM+h8t+nvXfVRA3vs07LTWz97f2rvJ95P+jFGeud55PrC+L/XD96vkfw4frtVTf64bPyOsvgnTch+40U4bUVMKvTdkiitu03xuK83/6UP/6Pk2U16R4nJgN8ygafSLvE9BEVE6uqAQaDVfye+V62n3+2ElQmoHMOaFZxq1HBtbgIhWxm6a1RWjbsDpdm1E10ceY/Sc6nOTq2GC9O5Vwxra82yZc1/Jpd1Kk/lAGZXW/zjI5L1PWtsZBaa20mTQ51a00HgaoJEWILKSIpV9N9NcNftpN6r5hBF87pHs5cj7FDSWtkV7J366z2n+ybatQ/rseBdIjEYRWSWBydH59EwTy06oFZRQL/9bQTHxB5rMZCaG8noau1nh8eJn+rWpfkXmmpq0ucLUjWcoyjNGy8z946h/E009FCyKHTk3npn8qqD8XKSNOcAx/86WGyEiBT045F7QCE8Nfb4bJrwO9Y3a3G7qlabri09yM6S3AEa5frkedlJVTIbbaL+BqaFkiEYiFI46NpzWemHuR7V5UrbH1Wv4lR+IMPKnaX6yZD+jSr2PAH6mv2uD3TSJssqoRf1rQT29t6fxE2GkwzxnjBNeyuijR+59GnN4v7/9A2OJTRsBk08e5ea162Hbn42MtmSgLYzlFu8KRt0qOfYftQ0nZyWQ9S69oRjTPZrMMhZCUgCtAZ7dAO5fwe1244tQpMeup/faKJoUdeP+PVFVz972c4zpnggjHcYCRP6qWtEnCSyYyu9YhR6TdZfnic34s/Vwu32MvC+S03dGY3Xj/nW1zDJqU/+acLqXeeUZo4Ytbjdu9xVWjXsLozk/9E3BjWfZFcPi2LSRoTAZ2ggozxg1/OV24+5btc+i9SrTPaYFktYAsRm/9t3txheM4J+J5U0tKue/VFX+p7YgOMGxj2yC8LkgwSYIDiHBJggOIcEmCA4hwSYIDiHBJggOIcEmCA4hwSYIDlHyD5H/+usvp+wQhE+aCxcufDCN/AWJIDiEyEhBcAgJNkFwCAk2QXAICTZBcAgJNkFwCAk2QXAICTZBcAgJNkFwCAk2QXCI6oPNvHttsQMKzDvxWg7RMO9UW+SgjJqj7SZsv7OtZk+xwzyK7/WfITxk2B9nzrG6lEKrZ77N5h2Di9WnaJqi77FK1uc+0kM/jpYqgy3OXF9C3+swxvTWFZsXGGeuY5VufT/EZ2dGGNcbc/yBj1V/TNvHb6GFkV9r8ALLoccPxnbnZtafsmqz51RmaZzUtfwNW4vRRuCQZwscFi1YonDDej2zNMgV9P0TX0+T6Cts6MXTFH+PVdv5KsHojQSPnD695pipLth20yTydgcuOHxiPcrUjevZxtf23bTe0ONE7+t7GIK2jRhlbty5G2bwMMf8rLTQciZvf0G0l9/tLzxjgHN3D719WWVkCA9V3+Nrh4kEaM/LMxpB22sS4HQv129MEV0vM03R91gtcaJb3Vz9rvuQ+Xx6VBdspxtpsWxYSnarZoNMOpE7kif7TIrUbppETxO5O/U0ntG38S6KLjt/hbuH3NG2/fxobiNQgN0wj7a6acxteQpoo4Svw1d4qIJFPlu3Sp9zm0aDCg9l0HY7Hofb5exFWQkpUivGtt0aTV/ld47F0xR9j9Wasx4l4W+n/nQ73eV2sieEKmVkG4HX3azqG5amrh2dfNKk0TjcVgqPjMo/9aScOWDrVaa3crvkZt6s0nKt1xT8WpnR88aW1TG6I+O503Cy8llBOZ8qPJEG0CRl7vyxluDT4qOVXodx7hZuO15w+kzlBzx+XGQI/57QO+Z62v2Yjgw7+VR3sMb6HO7fm4gpCvNojXMwHStj99oK2Q3z6D5gkjEWWgMoSqDCTLWXPP4mQ+/lFE+DLbQrQNq4r23XPXXffNAFjF4DSMHM3ZwtrVeZ7rGOiNlcTEcRgZ/pXWgrqEOG8O9TZLcGz+d0L/NKb4X1+4jZjbJKN3d1P9Sf64Zfo2Qul3/u3qdMVSNb/NUUo9dyDrLT8fWNLfqpHzqGfCyQIRnSW0VOCD3dy7yioJyP1vQ42PrL17XRZj1KYuaqjWzLP+hCWyTJpO0DK5/M0iC+99ezI+N0T7GU9fSGFBSlnWitVvoKaKKpJ0HaNNqn3kf0M+c+nKboe6zCksybVSIrI/jMZ+o5fdDGMVJVsDV95Wfq91zDyLxZJWIcl2TQ2s6o6VCD+J8j4G+nnjbab0zlVqLWnzJCiQPyIHtS5F3GrT8zVCMjAXQbrvQlCuaaxhwyd9CF6c65bjBLwvWntjIy9T5iOkLWepBGMXsCioJyG8aLHqJYrYzURvJsfXbDPLqffyBIiTRF32Ol6IsweZ1YbAZbX59Iqj3YzTiAzmU54G5fXQyYDuAzDrQzH3KnPa0djFfswL4jYU0NmcvaWVQHTDbthwdMh93lDiLMt9FyYOLsoroYMA5INOWfPYzQpboCITUUsDmU8QhZmy1yMKAr74BIiw+KpFHVEu+xAnYW1QG7gxB3FtUBx9rA8VLjbRHizD2AwDGegSVUwPoccwQc/nnj86W2f661HiXxVTVqXjgO4q8S9nNl4UiQDX8EwSHkD5EFwSEk2ATBISTYBMEhJNgEwSEk2ATBISTYBMEhSv4h8n/+8x+n7BCET5p//OMfH0wjI5sgOIQEmyA4hASbIDiEBJsgOIQEmyA4hASbIDiEBJsgOIQEmyA4hASbIDhEVcG2Me/B48n73FzmID/h3jJB2/sHLN80ng2yvHeIGpRvNQ89HoIrBVZm7Sm8p11/+LZYngcs3zTs3+DhUdfl7cOcv+c3KkxzHD4vYVvRd3FyqSrYvINJksnc58kQDP94iTpLqg0eXnjOxb/0NF+PMaE7d2O+k+ddL7Xn/2hm7J82gXoU+LvgRaywrLcLPKerIPnBygTpH5P0ny0ncy/9yRkunaqBnbZs8PD7TSb/SpJMvmTy3Q+FncDeMsHv4UmyMM2x+TyfoSd6u3lC862J4wn6Y+LwMnJvmcfvJunLb5BvY8wO/ZRtfN5vJ/WGvkEsNMxPPXponu1jkufEynH63jLBYj16OUSaaf56jIW8RrrxepOLXc2F6b+5U2ag1YoDlm8+xLaGe9ts+i/iOwVQh6+ri81ta7gcrD2He3140dJc+nGY2dcbcBifHxlefEMvLHtVnnQOHWwHa89pLhjV4GB7k64vG3MXTjXQHEmT3ttm099I7k4dDV9/yOm6BPon3Bn0HspeX4fRAHX2lnn87iINbFrSbcx76LzQWSh3LDItZn6Chx4jUDTJWolcOlgJ4vFMwC/92NbwVAPNESNADoi9gIvfWL2e/vsFzQ2ma6cb6Xq3zUFVPj9iinXSJ5hDBtsGC7ea8R2hw7T54QT8kiT5W15Q580BypqPnO1j8t3jbBqjszB1C2zMe4h1GDL5JRdf6HJnb5lgVsolSXakGYvYFeKlPyuzn9B8a8F+tDLVYYI7JEvKUC/9f13k+QUPHk8n6R+PUrIeIaEftPd0Ycy2kz7JVLfXv8HbGJv3+uivkTEF7C3zOASY5KiFs/0kk5WWXoevCybWDrjUk9Y6iySwbdw/YPsdzIY8zJqeGv4RIA337uRsOdvHpN86ImZzWQnSeeuF/q2LyT3wFtThgOV/zQImiVeMtw/x/KuRl8kkM2gdQnD7JTMfeu5jY+gJSV2dfLJ1qJJDjWwbrzcLpIxBXUMzL/5O5y4YUsaQk9kbB2y/67IcV5Tl1CVmkkmSHbGarl7V9fykjTZ6Z1Eo27pyo5f+6T+rSeNyOFgJ0vn3T9mRcbLwnEXDEi79liSZ9BErtqKrs/F61rIIlZsD52j8Mm8et5vmxdcN1FXicwfxdgxb28gJ5xDBtkEs1ExDMSlz1sdwKCfXNv49Bl0+6vDiG5rlsRE4bxcYw5j4F8urn2QyyR0mrMvZ1chIAN2GH7636yy0+czYvwuFX903F8EsCd8u2MrI9N8vcvPVvRjPbaWm1Z7+ZJLkLzDhsV8gafyyi9l/5YLxYO25FkhF7dNGzeEOb7a+FfncATZez1rn9Sec6mWkPlL1WS4esHxzgYbf+vHipf+PZjwXPIyBJh90ueAdfEKzpxPPLYBhniTL0+51PTMkzReqkpEa3m8n6aLBVp56B18yebMTj8e4MsyTZD/eU5e4cy9Ip3FjaNJWRnq/nYQLev38wwwXHdnyOHWJmaT9rbqeGZ787aHTM6Zd8E/y8jcvFp/n2dd17yUzZ406VefzmhP6AU9I/7epTXwOlNwRufJtETZ4OA/9h1wxFCpBfP4x4Py2CG9jbH5GsuCjQHz+yVDjkU0QPk9kwx9B+IiQYBMEh5BgEwSHkGATBIeQYBMEh5BgEwSHkGN+BcEhZGQTBIeQYBMEh5BgEwSHkGATBIeQYBMEh5BgEwSHkGATBIeQYBMEh5BgEwSHOFSwxR+4cbu1z9y6TYLdMIP6ffdQmEz2RobwkPHsIGFHNguNM+d2M7iUsbmn2VN4T7tuW7fsfcP+OHNHWBezr922PtVZn8vdfxDPs9Vpn9tjqYtdHU4qapWszbrUgfB+qRRqyDWgLu4Uprc8Gw+prsCiWiqn2rCmhgID6oBdWfGQOhAYKKjPfnhADcVL5bmvLgZydXSStVlXoW07i+qAK6SuZW3LpTken+ezpoZcee1mZ1FdLOnjk0N1I9tumEdb09y9XF88zXqUqRvX6dX3Jmz7bhoiUTLEid4f5brxbOtVplklWk5Puxtm0NJbV8hKCy1nRniaN1LFXyXo9rcUpj93l0Br9cVVTobw0BwfrKHu/6t5tmXerMLMVdoAqKf32ihTr+JwGJ/XkMzSIxIzMebN7eZ0L72O+vj4qC7YdlLgh6dZSVPYQDLpBP6vmnIXTjfSspIitZsm0dNE7k49jWcipHZKFahLoF/h7s9tVZls0H7eaIA6u2EebXXTSMKSLv7Aja/DhztfelpkWtT8BHNZP2iS1UhnL12tZJYGcbvH4XaAD9Uw82aVlmu95Hd1qfcRWhpNV79owr+VJlOVz2tNhmgEus+V6KBPOFUFWyadIBJcpem1gqIoxGYSXDnMiFMCTd+Pw20FJZTXwMwN313mfKT1KtNbj7JpjIZr6haIP3ATPa/VTVFidEfGtfS7YQb7Ekzr9VbOpxhZsSukjYBiPP+MluDT4qOVXodx7qIo81klUMIjPA220P7JjQYpUistx74L83FS/SatJolYf64bfyRNhraC3vZQ7IZ5dN9aloXWAIoSqDDTetr9MP4mQ+/llNZwFcjtzZ0hvQVT991MmZ4avQaQgpm7OVtarzLdYx0Rs7ksDeILGlsh+5nehbaCOmQI/z4FmCTeh1iPkpi5SqW1Pn6aaOp5RNrWD58HVY1s9Y028xubNJH3qdwFQ8oYcjJ7I0N6y0/TFzaZnO5lXlFQzkfLlmPlUH/5ujba6A23ULb5c6OX/gm0aiN6OWSWBvG9v54dGad7ilpCb0hBUdqJlrkyF3+VKCrFmr7yk0ibcthJETnTSH0lPj8yNOm6+uazWXssoLo5W2s7o/dzUiz+5wj4262jWtE0bbTfmOKRETjrTxmhm/ZSvV1rAEVRuMu4dTm7GhkJoNtwpc+u4WqNYuTPQuFXf64bzJJw/amtjEy9j+Tmq7tRVm2lptWegKKg3IZxm/lvjjjR+8WlmNU+bdQcPd8G1fj8CGj7bhqCPutPKetzJX5aOWFUvY65s6gOuFyqy+VSXbNr+sV9dTFgLD2r2hJzQRpVNZaAtXum9EfKmhoyl7WzqA6YbNoPm5f+tWVzl42N++EBU50WTUv/pvzNvgmE1FCtfh7YWbT56cLqc7N91p8yjsPndpjtyG8XJ5sab4sQZ+4BBA65YihUgvj8U6G2f661HiVhXu4Xjh7x+SeDbPgjCA4hf4gsCA4hwSYIDiHBJggOIcEmCA4hwSYIDiHBJggOUfIPkeWYX0EoDznmVxA+IiTYBMEhJNgEwSEk2ATBISTYBMEhJNgEwSEk2ATBISTYBMEhJNgEwSGqDraNeQ8ej/EJsrxnk2hvmaCR5uYyB9kbByzf/MCzNWeDhx4PwZUDm3uaPYX3tOsP3xbL84Dlm4b9Gzx0oC5mv9va9fZh7r3Mb+TZ6rTPS9hWqg4nlCqD7YDtd11M/pUkmUySTM5w6VR+mg0eXnjORT3Nk6/HmNAb88Z8J8+7XmrP/tHM2D/NgXiE+LvgRaywrLcLPKerIPnBygTpH5P0ny0ncy/9tn6oHRvzHh5/qfstaWPX3jLB7+FJMkky+ZLJdz9kG/Ox+TyfoSdZ+5PJJ/B9sQ7w5HEIGdlMQ6mG9TbG7NBP2cbn/XZSb+gbxELD/NRTp90428ckz4mV09PuLRO09NYVEmmm+esxFvJ6043Xm1zsai5M/82dMgOtVhywfPMhtjXcW+bxu0nuGH6ze3rtOdzrwwtAHZd+HGb29QYcxudHipf+5BOaby3Y1/mEUWWwpUlHZvlBlwJ2PdPB9iZdXzbmLpxqoDmSJr23zaa/kdydOhq+fkG65F6PugT6J9wZ9FZnso6vw2iAOnvLPH53kQY2Lek25j10XugsrJ9FpsXMT/DQYwSKJlk9JfyTz8FKEI9nAn7px7aGu2nogoVsvoVBmf77Bc0NpmA83UjXu20OqvK5U3jxDc0S+wzkZJXB5qXfJAWab3UemfbW5igT8EuS5G+XsPTrNnOAD85HzvYx+e5xNs3B2nOaf7xkaohambEOo34vufhiQku/t0zw+82cfO5IMxaxKyTfPyV6br0OE9wpIsd1O7c3eXHrOY162S/vbfLDYUZ5wXGq3+s/i5e+e11MbB/A2eISpyr2lnkcAkxy1MLZfpLJ/gozrcPXBRNrB1zqSbNwqxlfEtg27h+w/Q5mQx5mTU8N/wiQhnt3crac7WPSbx0Rs7msBOm89UL/1sXkHngL6nDA8r9mAZPEK4XJD3XfXKTrxTYHeKmx14+Brs/iwI0jW/qva2jmxd/p3AVDyhhyMntDW2yxdfapS8wkkyQ7YmXLsbJs6/lJG23extjMznHMmBd/cosRB9v2gZXPwUqQzr9/yo6Mk/6ilnDptyTJpI9YwYptXsoGmzllHo1fdrG5bcphN82Lrxuoq8TnTrO3zOPQB+b/J4QaBNsGC7fg4jd5/etZH8OhnFzb+PcYdPmo0zX6YyNw3i4wxkV8pZx9tp9kMskdJqzL2dXISMCYJ/zw/Wah3fp8ZuzfhRKt7puLYJaEbxdsZWT67xe5+epejOe2UtNqT38ySfIXmLCZiwEl/FnMPm3UHO7wZutbkc+dYG+Z4IUxmv8oMk89YVQnI3UnGSJp+I+kLm8OWL65QMNv/Xjx0v9HM54LHsZAW/LVpZJ38AnNnk48twCGeZK8VJYUquuZIWm+UJWM1PB+O0kXDbby1Dv4ksmbnXg8xpVhniT78Z66xJ17QTqNG0OTtjLS++0kXNDr5x9muOjIlsepS8wki9300v/XRYIF/jT5PM++rnsvmTlr1Kk6n9ec0A94QsYXTUEc5c8lHxMld0SufFuEDR7OQ/8hVwyFShCffww4vy3C2xib5uV+4egRn38y1HhkE4TPE9nwRxA+IiTYBMEhJNgEwSEk2ATBISTYBMEhJNgEwSHkmF9BcAgZ2QTBISTYBMEhJNgEwSEk2ATBISTYBMEhJNgEwSEk2ATBISTYBMEhJNgEwSGqD7b1Odxut/Z5ELdPsxtm0EgzFCaTvZEhPKRfdw8SdmSz0DhzbjeDSxmbe5o9hfe063PrxfLMEB4y7I8zd8R1iT9w53xerKyi7+U4fF7CtoI28RmgVsPOojrgCqlrqqqq6r66GHCpoXh+ojU15BpQF3f0b7MudSC8X/BvNR5SXYFFdb8qQyphTQ0FBtQBu7LiIXUgMJCzSWc/PGBTL0sKdTGQq+PRUkZZJd7L8fg8j3hIdc2uOV3qR0NVI1vmzSrMXKUNgHp6r40y9SpvdFuPMnXjOr363oRt301DJEqGONH7o1y/XK/daL3KNKtEy+lpd8MMFhtFy2GlhZYzIzzNG6nirxJ0+1sK05+7S6C1+uIqJ0N4aI7iNWwpuddj8fdyCJ8LNaOqYEu9j9DSWJ+78EUT/q20RRJk0gn8XzXlLpxupGUlRWo3TaKnidydehrPREjtlCpRl0C/wt2f26oxOUv7+byOYTfMo61uGklY0sUfuPF1+HDnS0+LTIuan2DObQSKJlmNdPbS1UpmaRC3exxuB7CvYYrUyhRXSuRZ9L1U5XOh1nz0CyTaPGUcbisooV7qzTfz5wDlzEdarzK99SibJvNmlZZrvaaGqJUZPa+gKAqKEqM7Mq6l3w0z2Jdg+rV+73yKkRW7QtoIKMbzz2gJPi0+Wul1GOcuijKfVQIfztNXYi75EXP/yofn+ieUGuz1f4Tshnl0HzDJUQutARQlUGGm9bT7YfxNht7LKZ4GW2hXILc3d4b0FkzddzNlemr0GkAKZu7mbGm9ynSPdUTM5rI0iC9obIXsZ3oX2grqkCH8+xRgknhl0cbVGT/j6Qy0VvLcR8CNZyiHVCefKlWNbE1f+UmkTTJmJ0XkTKNl1KlvbCHyPpW7YEgZQ05mb2RIb/lp+sKmoNO9zCsKyvlo2XKsHOovX9dGm/Uoiewcx4w/N3rpn0CrJo3LIbM0iO/99ezION1T1BJ6QwqK0k60BqtzRd9LJT4Xjoyqgq3+XDdkpZHWO4+ez2uyre2M3s/JtfifI+Bvp5422m9M8cgInPWnjNBNe6lDHloDKIrCXcat0qMaGQmg23ClL0H3ufyRQZvPjPxZKHGs9dZtt5GRqfeR3Hx1N8qqrdS02hNQFJTbMO4utUBiEOdpkALbi7+XKnwu1J5qlzH3wwOqy+VSXS7TkrK6ry4GjKVnVVvq1dNYl3zX1JBx3WVKf6SsqSFzWTuL6oDJpv3wQF49XDnbTc+Z6+2aXTQtx5vy31lUB4w0gZAaqsXPA+Y8XeafWqw+t38vhn1O+zwPc3s4TjuOiRpvixBn7gEEPlNNfjyIzz8VarsauR4lYV7uF44e8fkng2z4IwgO8dH/ziYIJwUJNkFwCAk2QXAICTZBcAgJNkFwCAk2QXAICTZBcAgJNkFwCAk2QXAICTZBcIj/B4oAYLhfvmsTAAAAAElFTkSuQmCC)\n"
      ],
      "metadata": {
        "id": "CxiuVD_2AvL-"
      }
    },
    {
      "cell_type": "code",
      "source": [
        "peso_trab = 2\n",
        "peso_avaliacao = 3\n",
        "peso_exame = 5\n",
        "nota_trab = float(input(\"Digite a nota do Trabalho: \"))\n",
        "nota_avaliacao = float(input(\"Digite a nota da Avaliação: \"))\n",
        "nota_exame = float(input(\"Digite a nota do Exame Final: \"))\n",
        "mediap = (nota_trab * peso_trab + nota_avaliacao * peso_avaliacao + nota_exame * peso_exame)/(peso_trab+peso_avaliacao+peso_exame)\n",
        "if mediap >= 8 and mediap <=10:\n",
        "  print(f'Média ponderada: {mediap}, conceito: A')\n",
        "elif mediap >= 7 and mediap <= 8:\n",
        "  print(f'Média ponderada: {mediap}, conceito: B')\n",
        "elif mediap >=6 and mediap <= 7:\n",
        "  print(f'Média ponderada: {mediap}, conceito: C')\n",
        "elif mediap >= 5 and mediap <= 6:\n",
        "   print(f'Média ponderada: {mediap}, conceito: D')\n",
        "elif mediap >= 0 and mediap <= 5:\n",
        "   print(f'Média ponderada: {mediap}, conceito: E')"
      ],
      "metadata": {
        "id": "9B1DNmvYA8iO",
        "colab": {
          "base_uri": "https://localhost:8080/"
        },
        "outputId": "3bb9bc3f-b445-4277-c315-c13052fd14fd"
      },
      "execution_count": null,
      "outputs": [
        {
          "output_type": "stream",
          "name": "stdout",
          "text": [
            "Digite a nota do Trabalho: 5\n",
            "Digite a nota da Avaliação: 5\n",
            "Digite a nota do Exame Final: 5\n",
            "Média ponderada: 5.0, conceito: D\n"
          ]
        }
      ]
    },
    {
      "cell_type": "markdown",
      "source": [
        "2. Faça um programa que receba três notas de um aluno, calcule e mostre a média aritmética e a mensagem constante na tabela a seguir.\n",
        "\n",
        "![image.png](data:image/png;base64,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)"
      ],
      "metadata": {
        "id": "wosbreykAzLe"
      }
    },
    {
      "cell_type": "code",
      "source": [
        "nota1 = float(input(\"Digite a primeira nota: \"))\n",
        "nota2 = float(input(\"Digite a segunda nota: \"))\n",
        "nota3 = float(input(\"Digite a terceira nota: \"))\n",
        "media = (nota1 + nota2 + nota3)/3\n",
        "if media >= 7 and media <= 10: \n",
        "  print(f\"Média aritmética: {media}. Situação: Aprovado\")\n",
        "elif media >= 3 and media < 7: \n",
        "  print(f\"Média aritmética: {media}. Situação: Exame Especial\")\n",
        "elif media >= 0 and media < 3: \n",
        "  print(f\"Média aritmética: {media}. Situação: Reprovado\")"
      ],
      "metadata": {
        "id": "NNmvJsJwAzW1"
      },
      "execution_count": null,
      "outputs": []
    },
    {
      "cell_type": "markdown",
      "source": [
        "3. Faça um programa que receba dois números e mostre o maior."
      ],
      "metadata": {
        "id": "xgQZzBJQAzhl"
      }
    },
    {
      "cell_type": "code",
      "source": [
        "num1 = float(input(\"Digite um número: \"))\n",
        "num2 = float(input(\"Digite outro número: \"))\n",
        "if num1 > num2:\n",
        "  maior = num1\n",
        "else:\n",
        "  maior = num2\n",
        "print(f\"O maior é o número {maior}\")"
      ],
      "metadata": {
        "id": "X-SD-c_cAzsF",
        "colab": {
          "base_uri": "https://localhost:8080/"
        },
        "outputId": "6aa951f1-b0b3-46a3-a2d3-178f61512379"
      },
      "execution_count": null,
      "outputs": [
        {
          "output_type": "stream",
          "name": "stdout",
          "text": [
            "Digite um número: 9\n",
            "Digite outro número: 6\n",
            "O maior é o número 9.0\n"
          ]
        }
      ]
    },
    {
      "cell_type": "markdown",
      "source": [
        "4. Faça um programa que receba um número inteiro e verifique se é par ou ímpar."
      ],
      "metadata": {
        "id": "7la9NFVQAz2G"
      }
    },
    {
      "cell_type": "code",
      "source": [
        "numero = int(input(\"Digite um número inteiro: \"))\n",
        "if numero % 2 == 0:\n",
        "  print(f\"O número {numero} é par.\")\n",
        "else: \n",
        "  print(f\"O número {numero} é ímpar.\")"
      ],
      "metadata": {
        "id": "xrHyFVBuAz_F",
        "colab": {
          "base_uri": "https://localhost:8080/"
        },
        "outputId": "a720214c-c9e9-48a2-8d31-8bc8bac45f53"
      },
      "execution_count": null,
      "outputs": [
        {
          "output_type": "stream",
          "name": "stdout",
          "text": [
            "Digite um número inteiro: 2\n",
            "O número 2 é par.\n"
          ]
        }
      ]
    },
    {
      "cell_type": "markdown",
      "source": [
        "5. Faça um programa que mostre o menu de opções a seguir, receba a opção do usuário e os dados necessários para executar cada operação.\n",
        "Menu de opções:\n",
        "\n",
        "1- Somar dois números.\n",
        "2- Raiz quadrada de um número.\n",
        "Digite a opção desejada:"
      ],
      "metadata": {
        "id": "xEYblB2pA0YN"
      }
    },
    {
      "cell_type": "code",
      "source": [
        "opcao = int(input(\"Menu de opções:\\n 1- Somar dois números.\\n 2- Raiz quadrada de um número.\\nDigite a opção desejada:\"))\n",
        "if opcao == 1:\n",
        "  num1 = float(input(\"Digite um número: \"))\n",
        "  num2 = float(input(\"Digite outro número: \"))\n",
        "  soma = num1 + num2\n",
        "  print(f\"A soma dos números {num1} e {num2} é igual a {soma}.\")\n",
        "elif opcao == 2:\n",
        "  num = float(input(\"Digite um número: \"))\n",
        "  raiz = num ** 1/2\n",
        "  print(f\"A raiz quadrada de {num} é {raiz}\")\n",
        "else: \n",
        "  print(\"Erro! Escolha novamente a opção desejada.\")\n",
        "  opcao = int(input(\"Menu de opções:\\n 1- Somar dois números.\\n 2- Raiz quadrada de um número.\\nDigite a opção desejada:\"))"
      ],
      "metadata": {
        "id": "thz8rUNgA0zO"
      },
      "execution_count": null,
      "outputs": []
    },
    {
      "cell_type": "markdown",
      "source": [
        "6. Faça um programa que receba o código correspondente ao cargo de um funcionário e seu salário atual e mostre o cargo, o valor do aumento e seu novo salário. Os cargos estão na tabela a seguir.\n",
        "\n",
        "![image.png](data:image/png;base64,iVBORw0KGgoAAAANSUhEUgAAANcAAACqCAYAAAA+wdqqAAAX8klEQVR4nO2dX0hc177HP+dyX25f66DB8bROCIFsQePh4DEEPASbOSqxUE3gJNAQ2jRONf4l6UNvWtL0PDRB45ixU09aJAVzoDWFjDh2UglHCPFKcaLgDoTQob2OqJnJa+/j3Ie998ye0TE6M9u/vw8Mzt5r77V/a+31Xb/fWupaf4jFYjEEQcg5/7HVBgjCbkXEJQgWIeISBIsQcQmCRYi4BMEiRFyCYBEiLkGwiCzEFaTf4cBh+vQ/SblkyYfL4cBxK7h6FinpwVtp8tl2rKPsuxTjHe3Wsmvlc+Fbyj6vzMS15MPlaKS7tpepUIhQKETocS9FyWbSf6SdknshQhfLN5C5k6J9GVm1Oayr7LsdJ72PQ4RCU/TWQndDbhpjNkRGXDkTRa74z43fEsH3eTsBuhj21GMzThfUU19guuwJVIZCbERW5RdDhC5u3KLNY51l3zPYqHQ6wR9gfhHYsjqIMBkIAM6tMmBVNu65liYZ8wMdlWmFExlx4WhopFEPG1wjkeQ0I6Q40k7AdF+qS14tBEnklRqa9ZMm+Mwdryq7EeausCmCr0Urm6slUcakujA+8RDauMf4bK9eWSPRqLVoI8XmFh8RgCf92rtrcSWVMen9GteuN494WgRfSwXtfoAA7Ue0NmLUrRGyJh+nth2L6ja2URbvx5qKi2PFfdOrpwc9seLi4liT70UsFovFXviaEscp9xppxvF0X3GsuLgpdn9xZT5amnH8Ina/uThWXOyJ6XfGPMXmY4t4VdnNJNlv2Fsc8wRXz2vNuojfbxxvHcZ7SHxSbGy+H3sRiyWXX/8eTzPlE6+P2DrzSKof4/6V9WPUp5F/6nGclPeQXO/ZkfPZwuCjbsBJzZ+1oMn25xqcQODXeSI/jxEAuo6WJ6WtJ5/yo12JxBUepJzKDoA5wlvduxveq6Eb0MqdoIvKw9q3tesiyORNoLaGygKIh1/o4deWY4y5QoRCXi0kNt6Jv52KNOV3Oiv1UNooXy+nDpuyXU8eb2qj26I3tdqaC0fIDN17GdHTszCZ5pSOjYurwE4JwM1J68Ow7cYryh68pb0s3FOEHvdusxHAJtExrItO/2xoMiuHeayBFiI20t0xTCg0TNerb8mIDDxXOc33uoBuGuNxMrDkw/fE8DABxn7WI2hTD22zlwDQ/SiYlLYaWs+UyEfzZDoFldTUYmrkqT29VaxV9gjhZwBdnD9hg8X5tGUDXlEXuif2jzG5BImxTcLzbTviHc/txPjliS/NWKaIolrA38535mn8DeVhxob9YMoZvX4Nzzb/a6J2te9Oek+Ww1KYuVdlnyGZhYWHm7We2XDfunud19Om3E4CbRU4HA4q2gI43VM0H9bShjuAm41aWiD9/I7txGf01hLP5/Yz85U26j3DdNGtT5o00p06g2cVactuo/49XXgOB45v5tb2XK+oi/KLU/TWagN0h6OCdr+T3sfNG5p93VzKaQ4N04VhswNHw1iaa23Ue4xpfPPkxEbySHn6yV6cpgkNDp9K237M1zo+X1/+mfCHWGyH/LPkk34cDd103QtpQt1tLPlw6SGl94TlXYSwCeyQP38K0t/QzbYOi7LC+P1ZYgJH2Plk8EvkTULvyRORchfDoe0cFm2UIP2ORhIjSSe9j7179JfRu5OdExYKwg5jh4SFgrDzEHEJgkWIuATBIkRcgmARIi5BsIi0U/EPHz7cTDsEYddw7NgxQKbiBcEyJCwUBIsQcQmCRYi4BMEiRFyCYBEiLkGwCBGXIFiEiEsQLELEJQgWIeISBIvISlzBW2tssrCjyP0KrJERV3Z186TftAqtBfmnJaUuUla5cq12Xl8NN3VThuCt3bVJw4bJaClRffVTT59nfavPbnumYx4rV+tdvB9rMq02uy57NnR9Dklr63TMY1qJdrrPWE3YbKvp++L9WNOuaBuZk/nSaqEQzUdzrHRBY6mIU5uxTFw6DtpXPvvJJN0d5+NrfJSf7IXAZBrPGsH3+Tznc7yY505DxlxrYg6RTKGiKQwywqPgLQf9I1rYZGwE4BqJJBba0dc57H+yMlwyH0dGXDiOVOhrIiY2l0ibvyl91VBuoyzOE9DXUjSXORKeiy8lDWgLePrnmaecU84x3d5GeK8eRj5h/r3dtJhQZmzf1Z82nW4aHcZaTNpKU0Ujt5lzTxEyryO45MPVAMMp2yPNA90BmAqFsAGRET2hoB7vY3B9Dp/p3ij4KL0VthNeQie075ERF5+MROLrGK6aP5qwGhkmFCqP31dxy57ZMtCHmwmFmrXvT/pxHOnHHmpec/8xs80QpP+bGk55Nv7o3YZ4rjhdDMfXJ9d6XZu9hEBbRZKXifw8Bu5Tq/bKXe/lIpRLeMuKtkDSJgSr5x8h/KyLYZOQbCfO05WLtfwPn6K3dmObWwRv3abov+vBtD3SXp3UEHGthT62rHyUCJHmfw1QYrdqNBSk33GbImMHkXtWbRGwcWz2kuQdW5bCzNUWJXu0JR+3OU99QZDvAjX6zpvD8E0WYeoORsS1Dsovhphyw9jPEcqPdtHdkN1Ge0VvOuMbMMQ3kQB9U4AS7PqkQdLmE2mxYT/YTaNpWj4ycpvuNTYnXDdPvqMdfXOLw5V0mTZICH7fDvEtgUAmMVYi4orTHd8J0whlzDs/VgRq+OyETd9oYi5x7XomDwoqqSExoaGFbcakwSR0GNfVc74jYcfkOje3Kb84Re+zxiRbpzJs5Em7XTZg2tyinOZ7JfENEhoZTlrTPjLyCWPOU/H90lInOfbiIt3yb/6CYBHiuQTBIkRcgmARIi5BsAgRlyBYhIhLECxCxCUIFiHiEgSLEHEJgkWk/av433//fTPtEIRdw2uvvQaI5xIEyxBxCYJFiLgEwSJEXIJgESIuQbAIEZcgWISISxAsQsQlCBYh4hIEi8hMXLMDKIqifwaYybFRW0HU35YoU+co0a0yZHZgzedH/W0oXgtrfI13m1RHisLA7Mp74ueAGW/y8V4jI3HNLNiZUFVUVUW9C2e2sjHmgtkBqsaPJ8p0FqaWrX/mSpHMMHDHzkRPHXlpbsurdaO6yiwzK0pFvB4mbjzljMnG8G/jtN7V60hVuVBqsllVUdUhuKO3heVRBhnSr9mbZCSuslrTyy+wU507e7aE6MJTqqsrEmUqraMufwsMWbbTsIawNoO80rL48/P+dJzq5wumjrM6vuzb2kQZ/SLMOQs7gZ1A9mOupTDjBwq3tEFkS96fjsOlqtVDmOVR2lYNk6KMdqaESMujtHWOMuo1Xbva/bMDKKf7wHMGRWljdFkPuY5VUZXynKi/jTb/KAOKguKd0Y8TzX3Gq1gWzkanH0C804my8Hycy8f0Z8U9WhkN1Q90u8/A2TrwXyN89gJ7W1pZrxU/w8Dpp1x/eCE31mwV+XW41UKtAVPN9YduzXMtj9L2BVxRVdwQD+VUVxkz3ioeVE+g9pi6lWUgcJnwWRXVtdb9F1DvgvK4IhHi1bpRa7WvUX8b1/xR3LVa3uOXwpxTVVQg6k88bsarcIYhVLUsfl+VtzDLsDHKaGcVlwNQfWMibgPkUdejUme6ps2vpeeZbNfCxOM09GRhwi4hc881O4CiTFGhurcmhMo5ZVxQVdSHx3lwTPMmLIUZD1zWe2VF8zbPF4gyw5SnlXO1q/hr53UajHFG2vtXY0YTt6JQdWmc8d/C8ZTqGw2reIEoC89bGTIJKa/2HK2eqSwnmDQRqarKFa6l8YZ51J1tTbIxXgrvIPaP6sA0+bFXJzUy81yzA1qvq+5Cx59fx5UbD7g2HaWuEGgZWukJlkd56rTTsJ78Vrt/BTMMKIPYH6qo+ej1m5H1OSWv9grXx68xtbzOMejyKIOcw50/w8D4cSZUN3nMMNA5SnSLx5JbQQaeK8roHZJ6zJ1O1D+geSqd8G/j2pcCO9WewaQ0APIrOM5lrvlfMcJJd38qyws85RCFegOeedy3DqvzKDzQlzSbF/UP0tdSkcVYJ8rMrKlMs/e4zHEqVggryuidPlqPlCWfk0mMJDLwXGHCgT4uK+YGYBqn7EDyaisIKwqKcaJlCLU2D6jDfTeMckzhsp5kjEPqeoYIK1Uol7TzrXdVLqTOpOWnv5/SClpPn0HxaHV3rkXhjF6nrS2t67K7zDXB9c4qFMNw53UmerJp3HnwWEE5bRy3MqQaHmeGAeUMxluvvjGB2zTNHvVf40H1FW1sSRkN1YNUKVqpW++qe85rwRprxcu/+QtCZsi/+QuCxYi4BMEiRFyCYBEiLkGwCBGXIFiEiEsQLELEJQgWIeISBItI+xcaUf5rM+0QhF3DH/Wf4rkEwSJEXIJgESIuQbAIEZcgWISISxAsQsQlCBYh4hIEixBxCYJFiLgEwSIyEtdL/4ccVfZrn04fL3Nt1VYx258ol/IhP71iYZk5734+9kc2x7bNYtnHx+nqwJxmfu+mevvWtIzanDf5eK+RkbgWC9/nkfoLj9Rf+OpABz27oIHNefdz9E4R9/VyPVKvwnRwzXtKXL/wj1rbJlm4Obychr8bdfDwb/z7WD9zAAT59tiP/PVh6nsP8m283r6HO7roln38i+95V9aK3xglpeWJ70c6mfhtPmcGbQnLPv71/Cb3e+p5PX7Sxlu15WvctDt5vbaeEuMg385B4/vsJP9seZ+39BW+St65CeOTaaKWCD99Mc/fXXuv/sxkPeaae9zDB0d2diW+nP4RqitNwjIT4afO/Ylw0ZvwZkbY89L/oel8kG+NcGqDYea2YznMM2cR+4CXCypVbxQl0vLtHAzMs0g5ddU/8rayn6PKSThbD/5PWTzbnBDpHiVDcQX5Vm80wSO/7HjXv/hbgIOF6cI7G2/1GKHi//Dp869XiOT12qvx83Pek3D3S62HL22Oh8+P7ipc/WHtMHN7EeGnLzo4eLY+TaeT4PXaL+PlfLc0yOj436jb4W0iF2QornLe1Suz/HFyb74T2feGk2cLa4wb4x7oL1wNBFhcSr3Axlsf/Y1/H9tPU9I4w+T1TvfA8/DOmPxZ9vGx8il8tPGOc877Nfs+qgfTpNdendTIOiwscX3PB55JfdC7M3m9UGEi3fhhtj9pouOrljSZmMcngCasv7B41pgcuElVrg23gmUfH38BneqX8fEV6HVkHlubQkbzvf/ifd7K17zXikmOPUYG4goyZ+qJXvq/5p8tlTs7vi49xad08HaSBw7yrTfIywUVDtj10ChI0LNaBhF+6vyafQ9/4StO6j31PIsBJ/v0Ja5fTv/IhLWlyAlzP/zIXz9aJRQsreQDTyIknvuhI2WcKpMYqWSwVnwRi3f20xTQD503ud+z0ytUG1ft8+7naHzB+E6+Upt5nff5QDnJUY927oNVPNec9y9cPfA9j/KBd27yr2Mf8tPDL6m7AW8f289VoKqlcwd4rgiLzwNc1W02+ODuL7xbWs67dxWOGmkt3/PI9GuIl/5P+Xf1Vf4BQDl11V/zttIRv/9V47bdSNq14v/391VPC4LwCv742h8A+fMnQbAMEZcgWISISxAsQsQlCBYh4hIEixBxCYJFiLgEwSJEXIJgEWn/QiOP/9tMOwRhFyEbjguCpYi4BMEiRFyCYBEiLkGwCBGXIFiEiEsQLELEJQgWIeISBIsQcQmCRWQprhkGFIWB3bJ01uwAiqKYPgPMbLVNW0TU34bSOUrUfHJ5lDajbsxppnozt4UZ7y5qGxmQlbii/kH6cmXJFhP1t6HcsTOhqqj6Z+IGLGzGKrmzAyjebSJjXUDXfjtEdVLCDAPHHnD8oVY3Qwcuc80f1c7H620I7uiiWx5lkCEu7OHFQbMQ1wz3xo9zPd06fjuJ5VGujR9noqeOPNPpvNoL1OWnvWt3kl+HW1Vxv2NPPj87RV/LuXh9lL1zHcankj1bnCijX4Q55yqz2NjtTcbimvGegbN1FObSmi0iOv0AqiuShLUCc8hoColmvAoDfq23b/NHgSijncqKMCnqb6PNP5NIM/KYHUA53QeeMyhKG6PLiXyNPLR8t5bowlOq3zAJLr+QQ4EwYcpoqH5AlaKgKFqbwH+N8NkL7G1pZSqu2QHO7CKXH/5tnEOFCWklGrbe2GcHUB5XJMLF6gd6SKTRNw5XVBV3LYx2XoOPjNByCE4nxm3jlwb1tAmuc5l7s0DpBdS7rdAyhKq6qcvXnj91xMhjguPj1+Ki247k1brjdXOhVItoGnZJ28iGjS8KujxK2x07Ez27p1+yv1HN4EIUSjWBlblUVBfMeNtYQOu18fShmFfbbTkHuq9rPWuEk2HCgXH6AgqX4xdWc30Z7ED1jSt6WJVHRXU1D0zPTBBl4Tn0eZSk8WzrWWAHhKgz3kHsH7nB34ZyaRyA1rvqrumIN8KGxTXzw2XGAzCuJJoPHoWnNyZw164ZWG1b8goPMX5nimhtXdrQsHrd5WtlSF0ZEm0ssKvm+kP3thrv5RUeYvxxGKNDYXmBp047DeaLlkcZ5Bzu/BkGxo8zobrJY4aBzlGiPenrdrey4bCwzJWYTVNVlaEWrWfaqcICoPQCQwcuU5Vmxi6v8BDjl+6tY1rejt3Zx2BWY6Q8Cg+Mc/mHbTJ7aFBaQatnMDEm/OFyyjhVJjFSyWCt+N1JmUtlyKugKKaTLUOo+UD+BSZutFFlSlw91MmjrmeIsFKFckk/5bzORE/d2g8vraD19BkUj+6xXBNc76wy2bK6N9xcyrhw9xDKMT3kbRlCNXWoUf81HlRfwa1f21A9SJUe3bTeVfec14I11or//fffN9sWQdgVvPaa/Ju/IFiKiEsQLELEJQgWIeISBIsQcQmCRYi4BMEiRFyCYBEiLkGwiLS/RBYEITvEcwmCRYi4BMEiRFyCYBEiLkGwCBGXIFiEiEsQLELEJQgWIeISBIsQcQmCRWQmriUfLocDh/G5FcyxWZtNkH5zeVaUKUi/w4VvacsM3EQi+FoS9eAaiVj8PK3u+59Y/JitIJYJQU+suG86o1u3J9MxT7EnZi7RdF9xrLj5fuxFNtku3o81ZZvHJjPdVxxr8iUsnvZZbH/QE2vq82yjenoRu9/cFLu/mH1OGYeFzjeLcqnxbUf5xRDDB9v5bjf2qGmJEH7mpObPtviZ8hP12Na4I1uCj+aoOXmKGsaY3GWRQUbiioTnCLRV6KFDPzs9KExH+dEuuh8F0UIXo5zad9+IC4cRKiaFyfp1Sz5cR9oJ+NupMIU9wVum0LPFhxF0RUZcuEZ8Wni6ZWG2jUontB9J806f9K9qe/CWg/4nidC6/4lWHu3atcLpIJPPaqgs0J479nMiBNXyZNXjDT1vVZv192lK0/KO4GupoN0foP2I6T2Y89jI8CBrJ+pryj582nJWhoWxWMwU/prTp2OeYlPolBr6mUPmlLTpvuKkcPqFryl+/MLXFCtezYatIOiJFRenhMUpQ4EXvqZ4HUz3FSdsX7wfazLVj7mMqZjzWK2uPMHEtebjdT8vrc3aO0y6Lv7slLAw6El+L4v3Y03rfE9ZzxbaTpynyz/PfLYZbVNWD3+7OH9CD5YW5+PeyeFw4GjohmdhVk4DRAg/62L4Ynn8jO3EebpuTsa9hNN9ivIV920Bh5sJhUJMOceo0Hv7SHgObjbGe/CKtgCBXxNvvetes2Z7gZ0SU/3Y7CVpHhJhMkAiBC2o3FBouJ7nrW2z6V0crkzbhiPhucSzAArqOd/RzeQ6hguy4m5aIvi+6abkvWZ4VdfRMUzo4raQRU6xnfiM3sAnTC7VUwk43VN4T+RoBLY0yZg/QMDvoN102umMUJ+rZ5DO5s0Ju7P2XJGR23R3VG6PHjdn6LH3wWGaD7/i0n1FOG/eXkccbsN+sJtG03hq+9VdBN8tn8nrzjPv177Z7CUE2r7LWbOM/DwG7ilCoVDi87gX9GcUvenUx7sAQSZvbvwZubDZZi+hu8E0Bl3ycftmF5WvahdkKC7zoLwiUMPUrui1u2mMD1orGHNOrc8bFdTjvVeiDYBTfzdUUEkNiQmN8otT9D5r3MZ1Z6P+6HwixHU0wj0v9QXA4Wam3HOmOsrmd1MpIaFBQSU1tVrIpYXMRl1NQkcGj8nIZmNSR5/QSM3jyBg1j5vX1SHKv/kLgkXInz8JgkWIuATBIkRcgmARIi5BsAgRlyBYhIhLECxCxCUIFiHiEgSLEHEJgkWIuATBIkRcgmAR/w/a/RxiwxiyxgAAAABJRU5ErkJggg==)"
      ],
      "metadata": {
        "id": "PcfSwcjWA0-l"
      }
    },
    {
      "cell_type": "code",
      "source": [
        "salario = float(input(\"Digite seu salário: \"))\n",
        "codigo = int(input(\"Digite o código correspondente ao seu cargo: \"))\n",
        "if codigo == 1:\n",
        "  aumento = salario*0.5\n",
        "  novo_salario = salario*1.5\n",
        "  print(f\"Cargo: Escrituário. Aumento: {aumento}. Novo salário: {novo_salario}\")\n",
        "elif codigo == 2:\n",
        "  aumento = salario*0.35\n",
        "  novo_salario = salario*1.35\n",
        "  print(f\"Cargo: Secretário. Aumento: {aumento}. Novo salário: {novo_salario}\")\n",
        "elif codigo == 3:\n",
        "  aumento = salario*0.2\n",
        "  novo_salario = salario*1.2\n",
        "  print(f\"Cargo: Caixa. Aumento: {aumento}. Novo salário: {novo_salario}\")\n",
        "elif codigo == 4:\n",
        "  aumento = salario*0.1\n",
        "  novo_salario = salario*1.1\n",
        "  print(f\"Cargo: Gerente. Aumento: {aumento}. Novo salário: {novo_salario}\")\n",
        "elif codigo == 5:\n",
        "  print(f\"Cargo: Diretor. Aumento: não tem. Novo salário: não tem.\")\n",
        "else:\n",
        "  print(\"Erro! Digite novamente o código do cargo.\")\n",
        "  codigo = int(input(\"Digite o código correspondente ao seu cargo: \"))"
      ],
      "metadata": {
        "id": "5NSfGD8tA1Jd",
        "colab": {
          "base_uri": "https://localhost:8080/"
        },
        "outputId": "be976049-7e87-4713-d600-70cb7b014b29"
      },
      "execution_count": null,
      "outputs": [
        {
          "output_type": "stream",
          "name": "stdout",
          "text": [
            "Digite seu salário: 6000\n",
            "Digite o código correspondente ao seu cargo: 5\n",
            "Cargo: Diretor. Aumento: não tem. Novo salário: não tem.\n"
          ]
        }
      ]
    },
    {
      "cell_type": "markdown",
      "source": [
        "7. Faça um programa que receba o salário inicial de um funcionário, calcule e mostre o novo salário, acrescido de bonificação e de auxílio escola.\n",
        "\n",
        "![image.png](data:image/png;base64,iVBORw0KGgoAAAANSUhEUgAAASMAAADYCAYAAACgAoVDAAAgAElEQVR4nO2dTUhbafv/v8+fWc3a/OvQhGkOlIIRqhlKiBSEIg1VdDE6XbSLoQylBl8SG+qz+XUW7bMZJdXEhCClDLOwi44+YMRIRApCaQgl0f4xhTIQOiTFl/jbzvb8F+ftPifn5MXEemKvD8g0Ode5zp375Xuu6zqZ3P/ieZ4HQRDEGfN/zroBBEEQAIkRQRAmgcSIIAhTQGJEEIQpIDEiCMIUkBgRBGEKSIwIgjAFJEY1UlrzguM45W8hW/mEgzi8enZG7zNkF4RrRHea0HCiBrKIsmPLceC4KKqMcA2UEB/nwHFexA/Ed+R55EX8oPx4c1D7zS402//pQGJUA6U1L1y+JDyhNPL5PPL5NOYvncRTFtEePxBKIz/hrGLrge27k1yDODH980jn88i/nYcHQYyMx1FqiuNOWNsBHMTxqy8JTC0jn49hqF1zvFkcpLBxZRn5t7ew0cNh5OMtuJvp/5T45qwb0AoUPiUBeHDrmkV8x4KhQUulU/Q5sOF2Po+xKmbOiTzyE/W7J5pEuxWdAJINO7JgKJLHkPRyv6DxqTneLNqHEJsAACdi+aZ7PzUoMqoB2yUPgCT8PeWpU63pW3aBA9fjgku0866J99ydqPB63CufL6RpTGgt2tScIhKNsZNCEIDH44Zwy5HSHo5JsURbKe0e9wr/VaV40nlRZHei4IaDwjlzI6INc1x0J6XoHMeBEyMz1Xvs3AE0c0NoV8U5aea5xBM1kQnbebtd+hvlV/eNbMRj+6v8qN3O28MZjdURvzpm5+32CJ/heZ7PRgSfY6v8US1+JPsyv8TJyfAROzu+FcZDHj/N+Ij2R/FR3m6386PxI95wrOWxUx+X5lgka9TOav50PlkLzSWKjGrEOSHWivoBIAn/f5R6gnQnGpkTjhX29X0IdzgX/AkA2EORKSoqd2E1pXcbSAIIXBdrTN1uBADgY7FJ9QxCRqoZ5ZcRSPjh4qLIIovUHIB+qe5igdsjRMqqcb5ihQWAxdoJAEh+KtR5cek687jdrXNUZ+5k3wQBeDD/U3n9UW9Omn0ukRjVhQVDEVGQEgUUxKcwLh8w/zaPdMijf5oYyo/MBbCcz2N56os2mqgbJ9xTgPaGcSbUPXdqnJMmhMSoBrILzGPegxQ2EgD6bbAdFLEHAFP3MdQuFbp1EAuXntBtOFFC8WPt17ZcuwUPgOAbsQVl9Qyi+YhRCjphbReFKbGB1AEAlJBKJgEE4NaJYE6ODbZ+AAk/XrF1yQpzR65l/snUfSrMSbPPJXqaVhNBjHBB5nUAy5EhWADcn/IjOTcCbg7w9AuTo4zu25jvD8Lvc4HzeeDpr+PS7UOIrRTADQvXAABMLSN2kqd5RGUSfrg4v/jCg/m3Y3ACwEQa8x9d8Pdw8GuPNQ0h6sa4C/5hDkFASBsjxnPHMhhDGl64fNLc8GD+bcx4Tpp8Lv2L5+nH1QiilWG/B2cWYTkJFBkRRIsjR0ifCoApEq6TQTUjgmhxsgscXL6k8pSsRaE0jSAIU0CREUEQpoDEiCAIU0BiRBCEKSAxIgjCFJAYEQRhCqp+z+j169dfoh0EQbQ4N27caOh8erRPEIQpoDSNIAhTQGJEEIQpIDEiCMIUkBgRBGEKSIwIgjAFJEYEQZgCEiOCIEwBiRFBEKagJcWotBZtib3DCYKonSaIkbArpmqXy2pnrHkNd7KstkOr8Kt2Qfh71Me057E7v7I7cqp2hJV2A2V27yyjgo2hX8IcsGOnmkvCdj66u63WvMNqFlFmJ9jTILugM692osZzFZXXlulpeBvI/VV+NBzhI9IulzJH/OqYzs6r+6v8aIUdLI/io+JunJIPZofNbIS3hzP8UTzCr+7zfCar+MmE9XfiPIqPKjtm7q/yo3I7M3yE2Rk2E7Yz15W9GtoY+yVMgzhftGTC7JiyO8XWM4YZnTnfXMrndIaPMDvdnjcajoxK7zbQeX0M7qkgUjVFB248maj1t3qF3Tv3isJ9oFTcg+eSTT7q7Gb9eGD7rqx1SCWh7LjZPoT7Ujt3UgiKe0sBgPOneSCZUt9xDG0q+CVMBTtfKlFa+xWFX5q9/VCTObDhtrhF1nmkQTEqIZXshLsbcF4PKJvDoYT4uAv+RFKdTu1EwfW44KqUFpX5B25dE7rfYu1E0vcKKR274kfxWqrQu4BCohPWdsXSdkkQN62wod2KzkQB7KbExjbGfgnzUCruIelziWmaklI5f7qFDXGujOA+hhDHr5/uY6zKpoxsKcC7VlQf3IkyZQKvYU1TVU4Q56m6xKCf+pXWvMraYWyyCxyia0I66l0robTmVZVM2FJCbWvuDGkorlKFwdqwVZOmaUJmdTrGq9632+3in06al40IxwzDVSG1E3yXh9LSdcuvb2xbblOLLWEmjuKjhnOGTdsMyUZ4OzPmwjwVX2uOGaft1VM7dh5VKj2wNuznKjumWXN6aatZaCgyyr4JMtujOCumaqXiHjA3Iqu0y5dE8lNB19YTSiOfz2N5KomNdxot7x5DOhRA4MoGXLpKb8HQLwFD38TXiWXwPgKayBcAsBPF80tPMASm2K1TAC4V9xBYUdI4y+B9BAyOGaftNtj6gxgpm7dKQd14XRjbBH7RS91KKH4MYJkpiVgG7yMwlzrVonsjNCBGwn7kwWElDByZY/bx1kESGfmvSu3IObGMTt8r3c6z/fQE85D2PzfCBlv/HoqMTeFTEp1Wi5DysYN+UMRevw1shcHYxtgv0UqUEH8B3B+0IPvnBm69FeblMp6XpVnsnvUnx4KhSB75/wF+lUUviyj3HDbx2vmVgM55tdi0PicXo50UglPLanHJLyMwVz6QgFLvqU+Vnbgd2sOInFvHmfPL6zYCJcRfSBGbBW4P4P9TPOsgjudzAbi7AXS7VW3N/ukHPG71HcbQpoJfwpSU1p4jOOVWFajrKVo7rwcQfKFENKW15wiK/7ZYOxEcZmo91eZD+xBi+WUhSjkoYg/KPM6+CZbb12JThgXWK0F57cht1vSBqThpfmeUz5Y9/rYreau6HlQ9HxY98hHJVqoXlZ0v2Ejvq88Xaki6NSjWn5xLax7x6tpU8UuYgkxYmRNl9aL9VX6UfW9/lR/VHWd9f6PxVVX9p2qtU/CgmqfS/GX9RsJKbZVdY7XYSO3QfjXGsA9MRkv+7GxpLYrUtTH5kXtzySK6AIzV/PUDgiCaQUv+7yCWwdMSIgA7KezV+N0UgiCaR0tGRgRBnD9aMjIiCOL8QWJEEIQpIDEiCMIUkBgRBGEKSIwIgjAFJEYEQZiCb6oZ/PPPP1+iHQRBtDjffvttQ+dTZEQQhCkgMSIIwhSQGBEEYQpIjAiCMAUkRgRBmAISI4IgTAGJEUEQpoDEiCAIU3B+xehwHYuJ47NuxRdnN7aI3bNuBEGcgAbE6BjrDx1wOJS/xffNa1hF3i+qrut4uI5j7fEb0wg/6oXDwSzOw3X42PNiu/o+2fdVn9OH9UO9BlWwMfRbL9X6Wzh+NxLGXYcDPq0QH67DZ9j+CjaqvtYInen7TGA3Vql96r46Tvh02nSM9YdV+o71nvCV938zOVyHTzvnxc9kvAZ3sVht/M+YBiOjPsy8ziGXE/4eXK1mX9+gVmR8Sb7u0uVpPJUHfxeLd4Cl1zOYnN1G7qVLOeegiC3mvJy3S3j/cB2+O8BSLodcbhszf92VB3U31ovNvm3B/mUHpn/TToIKNhX8ngymv1/P4MMdRRyOE0+x2beNpfFJLOW2ce+idI648H4rosNj5NfYZvezFdtSf70E7j6s/tlM02eiqKUxqX7/MA38LM3bbdzc6hWucbiOp3/fE/v3Jjb/K/bu+xVs9j3GwIUTtuMLcJx4iuLPldZgFx7kQqb+DOciTevqmcTW3+J2w4ef8cFjhVU6eLULXYxt3/dWaDnObAKzw6JdGwZ+nkT47S6AXaQjk7jX3yb6GsYMNpFWiamxjbHfJnDBhZueD/gstqX49xY6LoptQBu6rir/HniWQ+7ZMMo/OaradPUPQPKEdiv6xH+2RJ9dfSDcJHs0718YwIC8aNtw8XIlJ7tY/MOKx/1tlYzOnh8e1xAMmJtTEKNdLDoWscuE2sKd7RjrD3sxndzC9A0xbBbDzfUYkwKoUqna6h+7b8OY7BEl58JFdCSnsZIptzv+/AFbj3rLfKsXMoRF99dnHGuFDW24eHlLtXljmfgxNoZ+9T5DTD9tMOQwjU3chEu801m/70P4j3V8rn7myTkoYuvyRbTBHH3WHI7x+a8+YU+yCwO4h7vCONzYxM0fu7Ab+x3WfzOCrMsuFpk5m9b4V6XXRmknm5rKKRjr12heCDa9N3rVNmVrS1yX0mmaksUXK7FUoEExEoWlLMcO4+5blxiCTyL8xzqO0YaBZ9uY8YiphpQiJadR7Mkhl3uArsN1+H4DHrNpgdHgRe7KHZnuYcPTLjzILQGPphF+9FSVErb1h+QUbXv2g5JynDG7MeEzKGnDU4NUlunv34DHz5RF0tYfwnbfJqYjYeM+a6yVWLzzATM/dlU3bSGOE08xffmenL50eaVxCGEA6/gd96qkNsdYf3gXH2bFlDPnQvHRFnOMSUdzOSzhro6oHGP9jw9KCi6PaxceSGsht4SORys6N+cKNuzaYk85XIfvxiZuvlbOw52zryc1sWbE5qOTWJLE5qoLk8kiikYuPDMYloTkoIit5DR6JcW+EwaM7opi7Wd7tk8njO/Cg9czmBzvwOYN/U5u679XuV1fjGN8/gsI35FEXYgei7rbdkv9vYTJpDb1EQRpaXwSk7jblMKvzPtFOBxpuExec6gPIWJ5isfKjVF7/Lci7nm7mKhVby4VUcQMk8Z1YXi2z+AY0PXjDLCV1sxpITKcvlGeCSgF9bsIQ0nLa7Jh1xbLQRGYZWtgXRieBTYzZ3trNl/NiC0wq+4S+rT1P8bMX7/rq/r3w3hcQydbv+/Dh8+MjZSOXLiIDpVgMSG9RAUbQ79lLVA/CKj+MKALD152YPq/+oLj8i5hMpJuziP+94twvHWV3V3Pvs8a4RjrD58C/84hZFQLer+Czb5hdB2u43cslRe1JQ4/40MTWiREZC6kmTTtOOFDr1RQz21jRucBRC02rYK5xKjdir6IgbAY0oaBn9VPY9aZ/LesBiFynPgd4XEXugC0/XATkMPbY6z/IdWguuAaD+N3Kax+v4Jppk4jYGxj7Ffd/ouXtwyFxZCrw+onWAkm5SyryehRy5PNY6z/ASXKZVt9pn3WIFWfjtVRtL7gwk1MY0Wec7tYkdM0K6xgn/QCu/+dBvpcBuLahQe5bbmYX/x7S3ngcpjGZrL8jFpsymi3AqoSxi5WHgE3fzjbIn3VX3qsjFDDmBZf9c1uI9Rfyb4Nrj6g94YD0+NLyP2oOXxhAKGXRTjKfFbppKvDmEEvniZcCPVfRPGGAw7p2PgScmKUsRtz4G5EfN8zg+1nUtF7AI9nfeh1OJRriud0eZfQ4eiF4xEATGIpJ0Zq7xfh+zyMUH+bsU0Fvyxd3m3MPOyFQ270JJa0eX4ZwpMmx51FuHIPYMUmeh1ir0X6MPM61IRooohiMoxpR5h5T/A9cMZ91gjCg4yweG2R8SU5XduN3QV+zsntuQeHODbCZ1fThoF/z8Anz7lJzMz2idFSGwaeLaEof07xOmXzWXq4I7zqm91G6AKAH2eAG+K5nklM6kQ9XTXYlKGzziZf5s48Ba+6o2zL/uzs4ToWMy48OKVHsseJRaR/eHDmA6hlN7YIeKsJ2dlg1j4jmgP97KwRFwZOTYiAY6S3gIsmXFRdJhUiM/cZYQ7Ob2REEMQXhSIjgiDOBSRGBEGYAhIjgiBMAYkRQRCmgMSIIAhTQGJEEIQpqPponyAI4ktAkRFBEKaAxIggCFNAYkQQhCkgMSIIwhSQGBEEYQpIjAiCMAUkRgRBmAISI4IgTAGJUb0cxBFdK511Kwji3NEEMSohPs7BW+MCzS7UbtsYWUS5KLL1nLITBcdxyt94HCXt8R4/gj4XOB3f2QUO3ILBFVW+Neeyx1TnC30rHPMirrt9UQUbQ79fC1lEmfGM7pzSZTTzphnzW7VODuLwSvPmIA5vvfO6GqL/6A6AnbjBPPsC8I2yv8qPhiN8xB7hMw07ayaZ+tuUjfD2sHJGJmznR+NHan/7q3wkfsTz2YziOxvh7XY7Hwmrz1e1Jr7KH7H2Y+Lr/VV+VG7nEb86ZucjWZ3rs+ewfo1sKvj9OtB+5iN+NX5KM1Q1bzJ8xD7Kr+43z30mfLpjdxRf5TPidexnuI4bjoxK7zbQeX0M7qkgUqd15zkjnNcDSH4qCC8Oitjrt8EmHex2win/ewz5fB5j1yv4GhyCRXrxnQ3SJg6ldxtA6Lboy4KhXwIIvskCyCI1F8D9QfGs7tuYxwZSqruWsY2x36+FAgqJANzd0msLhgadlU5oEk64p5Io7H+BSzUJy+AQnACcE3nk82P4Er2kR4NiVEIq2Ql3t7BwyyY7G76KKU92QQmXhX8roXR0ByitectTDlUYbJSusOdy8K5p9oqVQ12dNMmA7JsgAtfFoWm3ojPhx6t3NXZNJfYLSF6xwgKg8CmJTqtFOfadDZ6PRZS04gcLrFc0k7yCjaHfJjS/NXDCPRXEiDbVFsku6KRVB3F4x+PISvNoPI4Sm+rVkuoexPH84zxuyyLIptFqH9r5X35M+O/IHBAcFo+LbZQ/k84aY9eBdq6Xf27j9qnXzCmmuRINxVVl4SkT4qnSBAU25FSFhfur/KhdSTmO4qP6KU/WIBXKRlQh5lF8VO17TJMmGfqwy3/loXGGj9jtvN0oDDfyW+ZDOb8sBJfaqm1zJVsdm1psvwaEeWAvS79V6duYOB6aOahOWyqkX4bzRkgVlVRfnVZX8q9dJ7JPdhwN1pj281ddU4q1pi/Yz9v89FNLQ5GRKnIQ70RSqqZOE4wJrIhhYbsVnVBSDou1k7Fi1Hs4COjc4UvFPcUXAMvgfQSkg/sFJBN+uLjKPgAAU8vI5/NIhzw6aY0TY2/nEZjqxEaPcYRmyE4UHJeCOx/DUHt1c6JxLIMx5PN5LGNEvOuXUPwoRhocB45zwZ9gIs7+eTwR56DtkgceeQ7bYKu0Qak4b/L5PNxvpKijgAIUfwDg/GkeSKbkuafM2frTO+M1pkRbLl9SLDWUkEoC8z/prEg5umL6Yr8AhJ4w89SJ2yFg493pxdYNiFEWqTl2UMVwUlzAZWnCiSkhPu5C4RdhoPNv56G3aWbhU5V9fZnJks/nkY8wNRwdLINPMP/xub7gXLqNJ/UOzE4U3Bt3WU5uu+TBXpHxI6Vw7VZ0JgooyAdKKH70wPYdc3IFG0O/tbf4XOGcWEZgLiWmLB7Mv82r5sNYdxUH9VyLrTWeIvprLIso9xw26fOtSLfkAgqJTli1N8GdKLgXNqTFflieOvVmG3JyMdpJIahd4PllBOaEBey8HkBwuBmPIAsoJJRFWHq3AT3ZcV4PIPhCyaVLa88RlA5+Z4NnzkBYDLFg6JdO+P8j+jyII87kzLWIrVIfKyH+AlieKL8rWa7dAnyvxH4qIf5CijaFSPO5VM/YeQU/bsGtmkzGNsZ+vxayiKrqH0XsAZDqav4/T6+Yn30ThOeSDYANNvjxK/OoP/unH/C4m3JT0F1jB0XsQRGd7BtpFYg1NE3dq1TcA+SblBBgAAC+swG+X5k1k8UrH3Dr2undzr456YlCipbXvCuEms/flTA0OIZ0yAsXxwmH+ueRjgyd4EpCeOjq4eAH4JkK6EZG6B7D8hUOLs4PAPCE5hGQYob2IcRWCuBEH8LxNGKDVTq2+zbm4cKva27EBq0o9HDgpGNTy8jXfDctoJAIws8Fmfc8mH8bw1D7EJ4w/eQJpRET/TonltHJucD5ACCA5bwQzWUXvCj+JKR6Rjao4PfrwInbl7zgOOnWJfS3EwAm0pgfd4GTBzOA5UafIs2NgJMW8tQy8uLcGoosoyCPj/pYw3Trr7H7UxxGxLkWmJKLFXBqPrewBu4jwEltDyAgRUY6ayawkj/V8gL97Gy9HMQRfefGWLMmVN2UEF9IwT1ROc0kCCOyCxxGPgrCZaY5RP87SL20D52hEAE4SGEDX2/th2gc50Qey1fYWqM5IDFqNdqHENOpPRFETYjfHRqB+8y+3GgEpWkEQZgCiowIgjAFJEYEQZgCEiOCIEwBiRFBEKaAxIggCFNAYkQQhCkgMSIIwhSQGBEEYQpIjAiCMAUkRgRBmAISI4IgTAGJEUEQpoDEiCAIU0BiRBCEKSAxIgjCFJAYEQRhCkiMCIIwBSRGBEGYAhIjgiBMAYkRQRCmgMSIIAhTQGJEEIQpIDEiCMIUkBgRBGEKSIwIgjAFJEYEQZgCEiOCIEwBidGJySLKceDkPy/iB1XOWNC3M3pfoYT4eG3XaFWEPuDAjcdRaqpPL+L/Lw4vx4FbyKKRvpTbWMeY18UB286vDxKjE5FFlBtBEAEs5/PI5/PIr9w6kafSmhcjcwEs52MYaq9m3QlrVZtWJIvUnPjPxAZSTVjgqn79v3oWJ+1LD+bfimNe05gRtfLNWTegJTkoYg8AptxwSu91D2HoJL6uPUE+b6liZMFQJH8y/63ATgpBAIGpAIJzQWy8K2FosFqfVMGwX895X7YwFBmdhHYrOgFgbkQnragxfRNDclePS7SLQgjOlTTCK6cT0ntam1NKF74w2TdBAAG4J9wIAEgmU2KfGn3uKLJMH0R32GNCXxT+dBn0i9anEEWx6Zd3rd5EUTPmUpolpV0c287ar6e1O+/pG4nRiXBi7O08PACQ8MOlmihOjEmp29t5eJCE/0+dSdQ+hJic4gUABPFcNSmT6PxFPxXILrjgT0jpQhrz/Un4e1pVkMQUbcoNJ5xwT6HGVM2CocgyAgCCL+Io7byCPwEEVupMnXaicPmS8ITSyOfzSIc8SPpcFQQpCX8Px9xASoiPjyDIpm8TTkGIevxI9s8jLY7zWHd917MMxsR0MI/lKQBzz1t0jGuDxOikSGKyEhBez43Idz75TtnjRxIAPhb1i7LSnXM4CABIfiowBwNwd+udJC7e/ltwtwOABW6PB0AShf3GP9YXR0zRMDcCjuMwMgcASWy8qyU6cWJsJSDcEIaDwNSysODrQIjKPLh1TUjpLNduwQPtWLCwNaMxOGGB9YrQZn+PEuWU3m0gCSDwyxDYZLHe60nRkdQvLTnGNUJi1CjdY7Ig7RVL4uQZQXBqGfm8cOfWI7sgiBVCaTGC+hopIf5CWJzyAhf7QknV6sBI9E8Z54RyU0r6XODG4/jfhr0KNzSXD5h/K0RQ5x0So5NwEEeUCauFux3QabWg8CkJwIP5n5xKobuMEoofASCA+4MWYL8gRFA1oU1lSkglkzCOpEzMQQobCTBRHoB2N271Q/x8UtSxh+IBABRQSLAOsogOB4H+eSyHPEDCj1/rrPc4rwfARmJyRHPdWfG8MrrHlJtPooB/rJ0AxBTyJNeTH5Lcx1A7xHl1viExOiF7PpdcWByZAzyhNMa6AedPYp2ohwP3nw2Dsy0Y+kWoE41wHLgXe3VFRs4JqU7EgeOk+tEY6lw+Z460EHHFyqQyStq58a6k7k/uOfb6JTvp6xVCKuQcvC8Uv32/1ldX6R6T6zYcx8n1HON0j60ZcYjusA8TpNrRGJxSxCzVFKUCdq3Xax/C/SnI6evzj+c/MvoXz/P8WTeCIAiCIiOCIEwBiRFBEKaAxIggCFNAYkQQhCkgMSIIwhSQGBEEYQpIjAiCMAUkRgRBmALT/57R69evz7oJBNES3Lhx46yb0BD0DWyCIEwBpWkEQZgCEiOCIEwBiRFBEKaAxIggCFNAYkQQhCkgMSIIwhSQGBEEYQpIjAiCMAUkRiegtBY91/tXmY3sgrLhInF+OQdiJPwgej27gJbWvIa7c1bbxTO7wMHlCwo/yq45xp7Ltie7UL6rKAD1jqNlO9NWtzH020JU7m9hbEfmhI0Lysb4IA6vdtdYzS6uKn870eq7sxrasD+836obZpocvtXZX+VHwxE+Yo/wGdWBI351bJRf3dezz/BGHMVH+dH4EePDzkey4stshLeHM/xRPMKv7vN8JptRnWfX8at6f3+VH5XbmeEjdqV9mbCdua6EsY2x39aiUn9LxzLhCJ/hj/hMVm1nH4vwEe0Yi2NUhqqPNONag41qfLIR3j62ymtHi2iMlo+MSu820Hl9DO6pIFI1RQduPJmodVMfYducvaK4x1VxD55LNvmos1vyk8UrXyeWy/yWkEpC2EMNELefEdu5k0JQ3BMLELY4gnbjQkObCn5bGnV/Fz4l0Wm1yMec3cq/hyJ55CO3YdPxwo6RROndBhC6LW7nJGwVFXyTrdEmi9ScuMcdAHTfxjxq2YKbqIcWF6MSUslOuLuFzfGUyVVCfNwFfyKpTqd2ouB6XMI+VkZpUZl/KFsRWzuR9L1CSmt2UMTelA3FsjC+gEKiE1Zm73fbJWGxaYUN7VZ0JgpgNzk2tjH229qo+9t2yYPgiziK9Xgo7sl7knGcUmtSCxuA72zwaHagNbQ5KGKv38YInwXWK+d7q+mzoLXFaOcV/Ffcwp2s243AXEqcfBYMRdKY7xe3TZ5wCkL0xi3ukZ5H2rNhuPuoMpl/Bf4nJkcmwlbWgN8XhP8/jJjtF5Cc86Pwi7hF80qn+jhREaP+tgzGkPZswD8XxIhRjUeDZTCmjHFoDyM13XQIM9DSYpR9E2S2BXZWTNVKxT15d05pJ8/kp4KurSeURj6fx/KUsg2xTPcY0qEAAlc24GInev88bku7gna7EdBEOYQxlfrbMhjD8lQAAYwYF50NsAzep3FoIVpYjLJIzQHBYeXJycgcyuoALNKkl/+q1I6cE8vo9L3Sfaxs++mJUjf4zmawPbUNtn5pn3gBKRWwWDvVYliWCqCCjbHfVpE+G/YAAAeDSURBVKZSf7snlpnIt37K0tj9ApKqbbUr2JSl0CUUP3pg++6EjSF0aV0x2kkhOLWsFpf8MgJzz3Ufu0r1nvomsxO3Q3tyilBaizPnM3WbdjduwY9XYlRWWnuO4JQbTljg9gD+P8WzDuJ4PheAuxtiWqm0NfunH/C4VYvD2KaC35ZG3d/ZNSby1BHraijjAFiu3QLk8S8h/oKNqgWMbYSo+7mU1u+8gh+34G4H0UzO+nHeScmEdR7N8jqPv+12+VGv/Fr80ztf/aiZ54XH66JtNlLhfMHObrdrHvuKj6Htdt5u13kMLZ3DPI7OhBk7A5uKfluISv2tHi+9z1j+9Y1MWBkf7eN31p/66wTK1yL0bZR2Ccda82sUZod+dvYElNaiSF0bUwrbzfWO+EIK7okhtHbS1TyyC1FgYgy1fiGjTu+ILgBjNX/dgzgtWjdNO0Msg6clRAAOUtiAlYSIwXlqQgRgJ4U9ne8lEV8eiowIgjAFFBkRBGEKSIwIgjAFJEYEQZgCEiOCIEwBiRFBEKaAxIggCFPwzVk3oBr//PPPWTeBIFqCb7/99qyb0BAUGREEYQpIjAiCMAUkRgRBmAISI4IgTAGJEUEQpoDEiCAIU0BiRBCEKSAxIgjCFJAYtRqH61hMHJ91K74ou7FF7J51I4hT5xyI0THWHzrgq3GB7sZqt22MY6w/9GH9sI5T3i/C4XAofw/Xcaw9fmMa4Ue9cDg0C/RwHT6981ifMfYMod+EY0btrGBj6Lc+jhM+9WfWaePdSBh3HTrjdrgOX1nbG2xzQ/1FNELri9FhGpuXJ9HxaKWmu2eXN4dQf9upN+vEjC8hl8shl8th6fI0nsoLcBeLd4Cl1zOYnN1G7qVLOedwHb4bRdwTz8s9G0Cb9P4dYCmXQy63jZm/7mLxvegt1ovNvm3B/mUHpn/TCF8lmwp+T0LfrHgNja/jxFNs9m1jaXwSS7lt3LsonSEKw29FdGj2iGqozQ32F9EYLS9Gx5lNdPQ8gGs8jHQDC8KMdPVMYutvcXPnw8/44LHCKh282oUu8Z+7/51Gx8sH8muJ48wmMDssvt+GgZ8nEX67C2AX6cgk7kmifHUYM9hEWnW3N7Yx9tsobXD19eHDZ2GZF//eQsfFNvlY11Xl3wPPcsg9G1b6owltbqy/iEZpcTE6RnqrA66rwsItWxBsyC2mLrsxB3O3c2Dx/S4WRZvF92zawITiqvSpQoiuCvHT6mNsGqVNsQzYfRvGZI8oMRcuoiM5jZVMeR98/msS1s9KuiOlM+rFDKDdir6/PuNYK2xow8XLW6pNIcvEj7Ex9FvDZ6rMMdJbwM0fBN/W7/sQ/mMdn2s9vcE2N9RfRMO0thi9X8H0ZZdwJ7vqwmQkrSxyVcjNpC4awnfScOVyyL2ewYc7DjzFY+RyOWzPAtP/Fb1dfSCnTrmXHcr7LIfr8N35gJnXol1PEdNJ5thvwGPZB3DXqGYRuSuLSronhwdXpQNdeJBbAh5NI/zoKSOIRRSTYUz/fU9s4xI6VMfNz9ajXvEzPwX+HcLABeH9tv4Qtvs2MR0JG/cXcW5oaTFSRQ7oUqVq6pDbmEkpvblwER1QQvG2ix2MFVO8vBMG9KKAgyIw+1heSLg6jBmPcmwrOY1eRxUfgFwz2p7t00l9uvDg9QwmxzuweYON0Pow8yPbD61115ZqRkvjW9jMqHulrT+EpfFJTOJuQ4Vywvy0sBjtIh0BwneUJzF3I5AXcFnIfWKOsf6wF8Wfxajm9Qz69Kw+f6jshilMV4rUJNr6H2Pmr9/1I5zvh/F4FuLCtcLq0bGBkOZI9RcAgihevoi2CxfRkSyiyHzGz3/1CVt1S1SwMfRb6fPXQJd3yfBBhMu7pI589WiwzQ31F9EwrStG79MIaxd4bgmTEWEBd/VMInynGd9PKaKYVCbecWYTWzpWbT/cBNiF9H5FSdPareiLGAiLIW0Y+Fn9NGidKdArYtsGVx+TUh6u4/fIJFxXtW06xvofUiQpRJG/S0/q3q9gGjfhusBcvoKNsd9G6cLw7Ac5JdtNME+syuo2+uc30ubG+otoFNP/0qMRQoqW07wrpCi/Z44x0P8A27M+9DocwiHPDLafDZzgSl0YngV6bzgwDaBvfFI3MsKFATxmrzc+gxnPB/lY6GURDtEHIKQmVb9icHUYM+jF04QLof6LKN5wwCEdG19CTqwntfWHsBRzQLh0H2Zeh8TUU92mvtlthMRzurxL6HD0wvEIACaxlBMitd2YD59/FOo2RjaV/DZKW/89TDruYrEnh2Fsotch9lhE+FzVoq/623yM9YcruPjsAbpO0F9E8zD9jrL0s7MaDtexmHHhwal8V+oY67E0XF5zLbTd2CLgLf/qQpO8YzEGPPCejvcvCf3sLPFluTBwSkIE4QukaLz202y6Tk2IALxP48P3lZM/4stAkRFBnBMoMiIIgmgCJEYEQZgCEiOCIEwBiRFBEKaAxIggCFNAYkQQhCkw/aN9giC+DigyIgjCFJAYEQRhCkiMCIIwBSRGBEGYAhIjgiBMAYkRQRCmgMSIIAhT8P8BO8ra9XGqt40AAAAASUVORK5CYII=)"
      ],
      "metadata": {
        "id": "MVNAcp1iA2p2"
      }
    },
    {
      "cell_type": "code",
      "source": [
        "salario = float(input(\"Digite seu salário: \"))\n",
        "if salario <= 500:\n",
        "  novo_salario = salario*1.05 + 150\n",
        "elif salario > 500 and salario <= 1200:\n",
        "  if salario <= 600:\n",
        "    novo_salario = salario*1.12 + 150\n",
        "  else: \n",
        "    novo_salario = salario*1.12 + 100\n",
        "else:\n",
        "  novo_salario = salario + 100\n",
        "print(f\"Novo salário: {novo_salario}\") "
      ],
      "metadata": {
        "id": "ILIFqMg_A2xw",
        "colab": {
          "base_uri": "https://localhost:8080/"
        },
        "outputId": "71a1fbf5-1f06-465a-ff5b-be8a34bc69ce"
      },
      "execution_count": null,
      "outputs": [
        {
          "output_type": "stream",
          "name": "stdout",
          "text": [
            "Digite seu salário: 600\n",
            "Novo salário: 822.0000000000001\n"
          ]
        }
      ]
    },
    {
      "cell_type": "markdown",
      "source": [
        "8. Um supermercado deseja reajustar os preços de seus produtos usando o seguinte critério: o produto poderá ter seu preço aumentado ou diminuído. Para o preço ser alterado, o produto deve preencher pelo menos um dos requisitos a seguir:\n",
        "\n",
        "![image.png](data:image/png;base64,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)"
      ],
      "metadata": {
        "id": "2Bb5_4k6A4z2"
      }
    },
    {
      "cell_type": "code",
      "source": [
        "venda = int(input(\"Informe a venda média mensal do produto: \"))\n",
        "preco = int(input(\"Informe o preço atual do produto: \"))\n",
        "if venda < 500 and preco < 30:\n",
        "  novo_preco = preco*1.1\n",
        "elif venda >= 500 and venda < 1200 and preco >=30 and preco < 80:\n",
        "  novo_preco = preco*1.15\n",
        "elif venda >= 1200 and preco >= 80:\n",
        "  novo_preco = preco - (preco*0.20)\n",
        "print(f\"Novo preço: {novo_preco}\")"
      ],
      "metadata": {
        "id": "HBM47EHDA5FH",
        "colab": {
          "base_uri": "https://localhost:8080/"
        },
        "outputId": "70033f42-cba5-4533-cca0-1a6ebc13908f"
      },
      "execution_count": null,
      "outputs": [
        {
          "output_type": "stream",
          "name": "stdout",
          "text": [
            "Informe a venda média mensal do produto: 1200\n",
            "Informe o preço atual do produto: 60\n",
            "Novo preço: 69.0\n"
          ]
        }
      ]
    },
    {
      "cell_type": "markdown",
      "source": [
        "![image.png](data:image/png;base64,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)"
      ],
      "metadata": {
        "id": "_JvhpJSnA52V"
      }
    },
    {
      "cell_type": "code",
      "source": [
        "a = int(input(\"Digite o valor de a: \"))\n",
        "if a == 0:\n",
        "  print(\"Erro! Valor inválido.\")\n",
        "  a = int(input(\"Digite o valor de a: \"))\n",
        "b = int(input(\"Digite o valor de b: \"))\n",
        "c = int(input(\"Digite o valor de c: \"))\n",
        "delta = b**2 - (4*a*c)\n",
        "if delta < 0:\n",
        "  print(\"Não existe raiz real.\")\n",
        "elif delta == 0:\n",
        "  x = -b / (2*a)\n",
        "  print(f\"x = {x}\")\n",
        "else:\n",
        "  x1 = (-b + delta**1/2) / (2*a)\n",
        "  x2 = (-b - delta**1/2) / (2*a)\n",
        "  print(f\"x1 = {x1} e x2 = {x2}\")"
      ],
      "metadata": {
        "id": "1JrgSwDhA6EH",
        "colab": {
          "base_uri": "https://localhost:8080/"
        },
        "outputId": "4a1f70ee-9a78-4304-da35-cbfe1949751f"
      },
      "execution_count": null,
      "outputs": [
        {
          "output_type": "stream",
          "name": "stdout",
          "text": [
            "Digite o valor de a: 1\n",
            "Digite o valor de b: 2\n",
            "Digite o valor de c: 1\n",
            "x = -1.0\n"
          ]
        }
      ]
    },
    {
      "cell_type": "markdown",
      "source": [
        "10. Dados três valores X, Y e Z, verifique se eles podem ser os comprimentos dos lados de um triângulo e, se forem, verifique se é um triângulo equilátero, isósceles ou escaleno. Se eles não formarem um triângulo, escreva uma mensagem. Considere que:\n",
        "\n",
        "+ O comprimento de cada lado de um triângulo é menor que a soma dos outros dois lados;\n",
        "+ Chama-se equilátero o triângulo que tem três lados iguais;\n",
        "+ Denomina-se isósceles o triângulo que tem o comprimento de dois lados iguais;\n",
        "+ Recebe o nome de escaleno o triângulo que tem os três lados diferentes."
      ],
      "metadata": {
        "id": "e77p4YkSA6tW"
      }
    },
    {
      "cell_type": "code",
      "source": [
        "x = float(input(\"Digite o valor X: \"))\n",
        "y = float(input(\"Digite o valor Y: \"))\n",
        "z = float(input(\"Digite o valor Z: \"))\n",
        "if x < y+z and y < x+z and z < x+y:\n",
        "  if x == y and y == z:\n",
        "    print(\"É um triângulo equilátero.\")\n",
        "  elif x == y or y == z or x == z:\n",
        "    print(\"É um triângulo isósceles.\")\n",
        "  elif x != y and y != z and x != z:\n",
        "    print(\"É um triângulo escaleno.\") \n",
        "else:\n",
        "  print(\"Não é um triângulo.\")"
      ],
      "metadata": {
        "id": "oGr8clCMA69G",
        "colab": {
          "base_uri": "https://localhost:8080/"
        },
        "outputId": "59c9a2e5-25d6-4600-fb4c-6e4efe46db77"
      },
      "execution_count": null,
      "outputs": [
        {
          "output_type": "stream",
          "name": "stdout",
          "text": [
            "Digite o valor X: 4\n",
            "Digite o valor Y: 4\n",
            "Digite o valor Z: 3\n",
            "É um triângulo isósceles.\n"
          ]
        }
      ]
    },
    {
      "cell_type": "markdown",
      "source": [
        "11. Faça um programa que receba a altura e o peso de uma pessoa. De acordo com a tabela a seguir, verifique e mostre a classificação dessa pessoa.\n",
        "\n",
        "![image.png](data:image/png;base64,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)"
      ],
      "metadata": {
        "id": "NUn9xMEHA96O"
      }
    },
    {
      "cell_type": "code",
      "source": [
        "peso = float(input(\"Informe seu peso: \"))\n",
        "altura = float(input(\"Informe a sua altura: \"))\n",
        "if altura < 1.2:\n",
        "  if peso < 60:\n",
        "    print(\"A\")\n",
        "  elif peso >= 60 and peso <= 90:\n",
        "    print(\"D\")\n",
        "  else:\n",
        "    print(\"G\")\n",
        "elif altura >= 1.2 and altura >= 1.7:\n",
        "  if peso < 60:\n",
        "    print(\"B\")\n",
        "  elif peso >= 60 and peso <= 90:\n",
        "    print(\"E\")\n",
        "  else:\n",
        "    print(\"H\")\n",
        "else:\n",
        "  if peso < 60:\n",
        "    print(\"C\")\n",
        "  elif peso >= 60 and peso <= 90:\n",
        "    print(\"F\")\n",
        "  else:\n",
        "    print(\"I\")"
      ],
      "metadata": {
        "id": "t1jHe7NpA-GO"
      },
      "execution_count": null,
      "outputs": []
    },
    {
      "cell_type": "markdown",
      "source": [
        "12. Faça um programa que receba:\n",
        "+ O código de um produto comprado, supondo que a digitação do código do produto seja sempre válida, isto é, um número inteiro entre 1 e 10.\n",
        "+ O peso do produto em quilos.\n",
        "+ O código do país de origem, supondo que a digitação do código seja sempre válida, isto é, um número inteiro entre 1 e 3.\n",
        "\n",
        "Tabelas:\n",
        "\n",
        "![image.png](data:image/png;base64,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)"
      ],
      "metadata": {
        "id": "4CYNost7A-O-"
      }
    },
    {
      "cell_type": "code",
      "source": [
        "codigo = int(input(\"Digite o código do produto: \"))\n",
        "if codigo >= 1 and codigo <= 10:\n",
        "  pesokg = float(input(\"Digite o peso do produto em kg: \"))\n",
        "  pesog = pesokg*1000\n",
        "  codigo_pais = int(input(\" Digite o código do país: \"))\n",
        "  if codigo_pais < 1 and codigo_pais > 3:\n",
        "    print(\"Código inválido\")\n",
        "    codigo_pais = int(input(\" Digite o código do país: \"))\n",
        "  else:\n",
        "    if codigo >= 1 and codigo <= 4:\n",
        "      preco = pesog*10\n",
        "    elif codigo >= 5 and codigo <= 7:\n",
        "      preco = pesog*25\n",
        "    else: \n",
        "      preco = pesog*35\n",
        "    if codigo_pais == 2:\n",
        "      preco = preco*1.15\n",
        "    elif codigo_pais == 3:\n",
        "      preco = preco*1.25\n",
        "    print(f\"Preço: R$ {preco}\")\n",
        "else:\n",
        "  print(\"Código do produto inválido.\")\n",
        "  codigo = int(input(\"Digite o código do produto: \"))"
      ],
      "metadata": {
        "id": "uilpH8IFA-bO"
      },
      "execution_count": null,
      "outputs": []
    },
    {
      "cell_type": "markdown",
      "source": [
        "13. Escreva um programa que calcule o quadrado e o cubo dos números de 0 a 10, e imprima os valores em forma de tabela. Número | Quadrado | Cubo"
      ],
      "metadata": {
        "id": "yWBskHPjA-pO"
      }
    },
    {
      "cell_type": "code",
      "source": [
        "lista = range(11)\n",
        "print(\"Número | Quadrado | Cubo\")\n",
        "for item in lista:\n",
        "  quadrado = item**2\n",
        "  cubo = item**3\n",
        "  print(f\"{item} | {quadrado} | {cubo} \\n\")"
      ],
      "metadata": {
        "id": "0oOU7t-oA-x2",
        "colab": {
          "base_uri": "https://localhost:8080/"
        },
        "outputId": "ff04a442-2a41-4cfe-ec27-7c3af5482957"
      },
      "execution_count": null,
      "outputs": [
        {
          "output_type": "stream",
          "name": "stdout",
          "text": [
            "Número | Quadrado | Cubo\n",
            "0 | 0 | 0 \n",
            "\n",
            "1 | 1 | 1 \n",
            "\n",
            "2 | 4 | 8 \n",
            "\n",
            "3 | 9 | 27 \n",
            "\n",
            "4 | 16 | 64 \n",
            "\n",
            "5 | 25 | 125 \n",
            "\n",
            "6 | 36 | 216 \n",
            "\n",
            "7 | 49 | 343 \n",
            "\n",
            "8 | 64 | 512 \n",
            "\n",
            "9 | 81 | 729 \n",
            "\n",
            "10 | 100 | 1000 \n",
            "\n"
          ]
        }
      ]
    },
    {
      "cell_type": "markdown",
      "source": [
        "14. Um funcionário de uma empresa recebe, anualmente, aumento salarial. Sabe-se que:\n",
        "+ Esse funcionário foi contratado em 2005, com salário inicial de R$ 1.000,00.\n",
        "+ Em 2006, ele recebeu aumento de 1,5% sobre seu salário inicial.\n",
        "+ A partir de 2007 (inclusive), os aumentos salariais sempre corresponderam ao dobro do percentual do ano anterior.\n",
        "\n",
        "Faça um programa que determine o salário atual desse funcionário."
      ],
      "metadata": {
        "id": "cCuAEeeDA-92"
      }
    },
    {
      "cell_type": "code",
      "source": [
        "percentual = 0.015\n",
        "salario = 1000*1.015\n",
        "ano = 2007\n",
        "while ano <= 2022:\n",
        "  percentual = 2*percentual\n",
        "  novo_salario = salario*percentual + salario\n",
        "  ano = ano + 1\n",
        "print(novo_salario)\n",
        "  "
      ],
      "metadata": {
        "id": "D-c1VsCGA_Gm"
      },
      "execution_count": null,
      "outputs": []
    },
    {
      "cell_type": "markdown",
      "source": [
        "15. Foi feita uma pesquisa para determinar o índice de mortalidade infantil em certo período. Faça um programa que:\n",
        "+ Leia o número de crianças nascidas no período;\n",
        "+ Identifique o sexo (M ou F) e o tempo de vida de cada criança nascida.\n",
        "\n",
        "O programa deve calcular e mostrar:\n",
        "+ A porcentagem de crianças do sexo feminino mortas no período;\n",
        "+ A porcentagem de crianças do sexo masculino mortas no período;\n",
        "+ A porcentagem de crianças que viveram 24 meses ou menos no período"
      ],
      "metadata": {
        "id": "xIm-meSWA_P_"
      }
    },
    {
      "cell_type": "code",
      "source": [
        "numero_criancas = int(input(\"Informe a quantidade de crianças: \"))\n",
        "contador = range(numero_criancas)\n",
        "quantidade_masculino = 0\n",
        "quantidade_feminino = 0\n",
        "quantidade_bebes = 0\n",
        "for num in contador:\n",
        "  sexo = input(\"Informe o sexo (M ou F) da criança: \")\n",
        "  while sexo != \"M\" and sexo != \"F\":\n",
        "    print(\"Erro, resposta inválida.\")\n",
        "    sexo = input(\"Informe o sexo (M ou F) da criança: \")\n",
        "  idade = int(input(\"Informe o tempo de vida (em meses): \"))\n",
        "  if sexo == \"F\":\n",
        "    quantidade_feminino = quantidade_feminino + 1\n",
        "  elif sexo == \"M\":\n",
        "    quantidade_masculino = quantidade_masculino + 1\n",
        "  if idade <= 24:\n",
        "    quantidade_bebes = quantidade_bebes + 1\n",
        "porcentagem_meninas = (quantidade_feminino*100) / numero_criancas\n",
        "porcentagem_meninos = (quantidade_masculino*100) / numero_criancas\n",
        "porcentagem_bebes = (quantidade_bebes*100) / numero_criancas\n",
        "print(f\"Porcentagem de crianças do sexo feminino: {porcentagem_meninas}%\\nPorcentagem de crianças do sexo masculino: {porcentagem_meninos}%\\nPorcentagem de crianças com 24 meses ou menos de vida: {porcentagem_bebes}\")"
      ],
      "metadata": {
        "id": "v1-Rdw2iA_XO"
      },
      "execution_count": null,
      "outputs": []
    },
    {
      "cell_type": "markdown",
      "source": [
        "16. Faça um programa que receba duas notas de seis alunos. Calcule e mostre:\n",
        "+ A média aritmética das duas notas de cada aluno; e\n",
        "+ A mensagem que está na tabela a seguir:\n",
        "+ O total de alunos aprovados;\n",
        "+ O total de alunos de exame;\n",
        "+ O total de alunos reprovados;\n",
        "+ A média da classe.\n",
        "\n",
        "![image.png](data:image/png;base64,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)"
      ],
      "metadata": {
        "id": "vmDGmeEiSYAx"
      }
    },
    {
      "cell_type": "code",
      "source": [
        "alunos = 0\n",
        "lista_medias = [] \n",
        "aprovados = 0\n",
        "reprovados = 0\n",
        "exames = 0\n",
        "while alunos < 6:\n",
        "  nota1 = float(input(\"Digite a primeira nota: \"))\n",
        "  nota2 = float(input(\"Digite a  segunda nota: \"))\n",
        "  media = (nota1+nota2) / 2\n",
        "  lista_medias.insert(alunos, media)\n",
        "  if media >= 70:\n",
        "    aprovados = aprovados+1\n",
        "  elif media >= 30 and media >= 69:\n",
        "    exames = exames+1\n",
        "  else:\n",
        "    reprovados = reprovados+1\n",
        "  alunos = alunos + 1\n",
        "  \n",
        "media_classe = (lista_medias[0]+lista_medias[1]+lista_medias[2]+lista_medias[3]+lista_medias[4]+lista_medias[5])/6\n",
        "n = len(lista_medias)\n",
        "for i in range(n):\n",
        "  print(f\"Média {i+16}° aluno: {lista_medias[i]}\")\n",
        "print(f\"Entre 0 e 29 - Reprovado, entre 30 e 69 - Exame Especial, entre 70 e 100 - Aprovado. \\nTotal de aprovados: {aprovados}\\nAlunos de exame: {exames}\\nTotal de reprovados: {reprovados}\\nMédia da classe: {media_classe}\")"
      ],
      "metadata": {
        "id": "pA6p1EEXSYOB"
      },
      "execution_count": null,
      "outputs": []
    },
    {
      "cell_type": "markdown",
      "source": [
        "17. Faça um programa para calcular a área de um triângulo e que não permita a entrada de dados inválidos, ou seja, medidas menores ou iguais a 0."
      ],
      "metadata": {
        "id": "VZ4Vab20SYdA"
      }
    },
    {
      "cell_type": "code",
      "source": [
        "base = float(input(\"Digite o valor da base: \"))\n",
        "altura = float(input(\"Digite o valor da altura: \"))\n",
        "while base <= 0 or altura <= 0:\n",
        "  print(\"Erro. Medida inválida!\")\n",
        "  base = float(input(\"Digite o valor da base: \"))\n",
        "  altura = float(input(\"Digite o valor da altura: \"))\n",
        "\n",
        "area = (base*altura)/2\n",
        "print(area)\n"
      ],
      "metadata": {
        "colab": {
          "base_uri": "https://localhost:8080/"
        },
        "outputId": "804d7be3-d23d-4056-af5d-9d1d5bfb5e11",
        "id": "nl0jBw_q1zaL"
      },
      "execution_count": null,
      "outputs": [
        {
          "output_type": "stream",
          "name": "stdout",
          "text": [
            "Digite o valor da base: 0\n",
            "Digite o valor da altura: 1\n",
            "Erro. Medida inválida!\n",
            "Digite o valor da base: 1\n",
            "Digite o valor da altura: -1\n",
            "Erro. Medida inválida!\n",
            "Digite o valor da base: 1\n",
            "Digite o valor da altura: 2\n",
            "1.0\n"
          ]
        }
      ]
    },
    {
      "cell_type": "markdown",
      "source": [
        "18. Faça um programa que leia um conjunto não determinado de valores e mostre o valor lido, seu quadrado, seu cubo e sua raiz quadrada. Finalize a entrada de dados com um valor negativo ou zero."
      ],
      "metadata": {
        "id": "hR3kyxcJSZS5"
      }
    },
    {
      "cell_type": "code",
      "source": [
        "numero = int(input(\"Digite um número positivo e maior que zero: \"))\n",
        "while numero > 0:\n",
        "  quadrado_numero = numero**2\n",
        "  cubo_numero = numero**3\n",
        "  raiz = numero**1/2\n",
        "  print(f\"Número: {numero}\\nQuadrado: {quadrado_numero}\\nCubo: {cubo_numero}\\nRaiz: {raiz}\")\n",
        "  numero = int(input(\"Digite um número positivo e maior que zero: \"))\n",
        "while numero <= 0:\n",
        "  print(\"Fim!\")\n",
        "  break"
      ],
      "metadata": {
        "id": "Td3olofJSZdA",
        "colab": {
          "base_uri": "https://localhost:8080/"
        },
        "outputId": "84473c15-621e-493d-9c85-174d48da1d2f"
      },
      "execution_count": null,
      "outputs": [
        {
          "output_type": "stream",
          "name": "stdout",
          "text": [
            "Digite um número positivo e maior que zero: 2\n",
            "Número: 2\n",
            "Quadrado: 4\n",
            "Cubo: 8\n",
            "Raiz: 1.0\n",
            "Digite um número positivo e maior que zero: -1\n",
            "Fim!\n"
          ]
        }
      ]
    },
    {
      "cell_type": "markdown",
      "source": [
        "19. Faça um programa que leia um número não determinado de pares de valores [m,n], todos inteiros e positivos, um par de cada vez, e que calcule e mostre a soma de todos os números inteiros entre m e n (inclusive). A digitação de pares terminará quando m for maior ou igual a n."
      ],
      "metadata": {
        "id": "xqMIfxtoSZwo"
      }
    },
    {
      "cell_type": "code",
      "source": [
        "m = int(input(\"Digite o valor de m (positivo): \"))\n",
        "n = int(input(\"Digite o valor de n (positivo): \"))\n",
        "if m < 0 or n < 0: \n",
        "  while m < 0 or n < 0:\n",
        "    print(\"Erro, número invalido!\")\n",
        "    m = int(input(\"Digite o valor de m: \"))\n",
        "    n = int(input(\"Digite o valor de n: \"))\n",
        "else:\n",
        "  while m < n:\n",
        "    soma = 0\n",
        "    lista = range(m, (n+1))\n",
        "    for item in lista:\n",
        "      soma+= item\n",
        "      print(soma)\n",
        "    m = int(input(\"Digite o valor de m: \"))\n",
        "    n = int(input(\"Digite o valor de n: \"))\n",
        "  print(\"Fim!\")\n"
      ],
      "metadata": {
        "id": "L55oSiQ3SZ95",
        "colab": {
          "base_uri": "https://localhost:8080/"
        },
        "outputId": "cc31e3f9-b73e-48aa-d0d4-efadd1433739"
      },
      "execution_count": null,
      "outputs": [
        {
          "output_type": "stream",
          "name": "stdout",
          "text": [
            "Digite o valor de m: 6\n",
            "Digite o valor de n: 6\n",
            "Fim\n"
          ]
        }
      ]
    },
    {
      "cell_type": "markdown",
      "source": [
        "20. Faça um programa que receba vários números, calcule e mostre:\n",
        "\n",
        "+ A soma dos números digitados;\n",
        "+ A quantidade de números digitados;\n",
        "+ A média dos números digitados;\n",
        "+ O maior número digitado;\n",
        "+ O menor número digitado;\n",
        "+ A média dos números pares;\n",
        "+ A porcentagem dos números ímpares entre todos os números digitados.\n",
        "\n",
        "Finalize a entrada de dados com a digitação do número 0."
      ],
      "metadata": {
        "id": "Q4U6g56-SaPg"
      }
    },
    {
      "cell_type": "code",
      "source": [
        "num = int(input(\"Digite um número: \"))\n",
        "numeros = []\n",
        "while num == 0:\n",
        "  print(\"Fim!\")\n",
        "  break \n",
        "soma = 0\n",
        "maior = 0\n",
        "pares = 0\n",
        "impares = 0\n",
        "porcentagem = 0\n",
        "while num != 0:\n",
        "  numeros.append(num)\n",
        "  n = len(numeros)\n",
        "  for i in range(n):\n",
        "    soma += i\n",
        "    media = soma / n\n",
        "    if numeros[i] > maior:\n",
        "      maior = numeros[i]\n",
        "    menor = maior\n",
        "    if numeros[i] < menor:\n",
        "      menor = numeros[i]\n",
        "    if numeros[i] % 2 == 0:\n",
        "      pares = pares + 1\n",
        "      media_pares = numeros[i] / pares\n",
        "    else:\n",
        "      impares = impares + 1\n",
        "      porcentagem = impares*100 / n\n",
        "  print(f\"Soma dos números: {soma}\\nQuantidade de números: {n}\\nMédia: {media}\\nMaior número: {maior}\\nMenor número: {menor}\\nMédia dos números pares: {media_pares}\\nPorcentagem de números impares: {porcentagem}%\")\n",
        "  num = int(input(\"Digite um número: \"))"
      ],
      "metadata": {
        "id": "_kljRVK5SaZZ"
      },
      "execution_count": null,
      "outputs": []
    }
  ]
}